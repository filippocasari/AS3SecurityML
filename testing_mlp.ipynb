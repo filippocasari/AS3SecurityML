{
 "cells": [
  {
   "attachments": {},
   "cell_type": "markdown",
   "metadata": {},
   "source": [
    "# Experiments\n",
    "Here I loaded the models trained before for testing them separately. \n",
    "I decided to do so in order to have a better view of the results without running everything from the main jupyter notebook."
   ]
  },
  {
   "cell_type": "markdown",
   "metadata": {},
   "source": [
    "# Imports"
   ]
  },
  {
   "cell_type": "code",
   "execution_count": 1,
   "metadata": {},
   "outputs": [],
   "source": [
    "import numpy as np\n",
    "import h5py\n",
    "import matplotlib.pyplot as plt\n",
    "from tqdm.notebook import tqdm\n",
    "from multiprocessing import Pool\n",
    "import random\n",
    "import matplotlib\n",
    "import tensorflow as tf"
   ]
  },
  {
   "cell_type": "code",
   "execution_count": 2,
   "metadata": {},
   "outputs": [],
   "source": [
    "# AES sbox\n",
    "def read_data(file_loc, raw=False):\n",
    "    \"\"\"\n",
    "    Reads in the ASCAD h5 dataset from the given dir_loc. If raw = False, reads ASCAD.h5 and assumes the simplified dataset structure.\n",
    "    If raw = True, reads ATMega8515_raw_traces.h5 and assumes the raw traces dataset structure. \n",
    "    Returns the tuple: (x_train, x_test, plt_train, plt_test, keys_train, keys_test)\n",
    "    :dir_loc: directory where the ASCAD dataset is located. Default = 'F:\\\\ASCAD\\\\ATMEGA_AES_v1\\\\ATM_AES_v1_fixed_key\\\\ASCAD_data\\\\ASCAD_databases\\\\'\n",
    "    :data_name: Dataset name. Default = 'ASCAD.h5'\n",
    "    \"\"\"\n",
    "    with h5py.File(file_loc, \"r\") as in_file:\n",
    "        # Load traces\n",
    "        x_train = np.array(\n",
    "            in_file['Profiling_traces/traces'], dtype=np.int8)\n",
    "        x_test = np.array(in_file['Attack_traces/traces'], dtype=np.int8)\n",
    "        # labels are sbox(plt[2] XOR key[2])\n",
    "        \n",
    "        labels_train = np.array(in_file['Profiling_traces/labels'])\n",
    "        labels_test = np.array(in_file['Attack_traces/labels'])\n",
    "        \n",
    "        plt_train = np.array(\n",
    "            in_file['Profiling_traces/metadata']['plaintext'])\n",
    "        plt_test = np.array(in_file['Attack_traces/metadata']['plaintext'])\n",
    "\n",
    "        keys_train = np.array(in_file['Profiling_traces/metadata']['key'])\n",
    "        keys_test = np.array(in_file['Attack_traces/metadata']['key'])\n",
    "        \n",
    "        masks_train = np.array(in_file['Profiling_traces/metadata']['masks'])\n",
    "        masks_test = np.array(in_file['Attack_traces/metadata']['masks'])\n",
    "        \n",
    "        return x_train, x_test, labels_train, labels_test, plt_train, plt_test, keys_train, keys_test, masks_train, masks_test\n",
    "sbox = np.array([\n",
    "    0x63, 0x7C, 0x77, 0x7B, 0xF2, 0x6B, 0x6F, 0xC5, 0x30, 0x01, 0x67, 0x2B, 0xFE, 0xD7, 0xAB, 0x76,\n",
    "    0xCA, 0x82, 0xC9, 0x7D, 0xFA, 0x59, 0x47, 0xF0, 0xAD, 0xD4, 0xA2, 0xAF, 0x9C, 0xA4, 0x72, 0xC0,\n",
    "    0xB7, 0xFD, 0x93, 0x26, 0x36, 0x3F, 0xF7, 0xCC, 0x34, 0xA5, 0xE5, 0xF1, 0x71, 0xD8, 0x31, 0x15,\n",
    "    0x04, 0xC7, 0x23, 0xC3, 0x18, 0x96, 0x05, 0x9A, 0x07, 0x12, 0x80, 0xE2, 0xEB, 0x27, 0xB2, 0x75,\n",
    "    0x09, 0x83, 0x2C, 0x1A, 0x1B, 0x6E, 0x5A, 0xA0, 0x52, 0x3B, 0xD6, 0xB3, 0x29, 0xE3, 0x2F, 0x84,\n",
    "    0x53, 0xD1, 0x00, 0xED, 0x20, 0xFC, 0xB1, 0x5B, 0x6A, 0xCB, 0xBE, 0x39, 0x4A, 0x4C, 0x58, 0xCF,\n",
    "    0xD0, 0xEF, 0xAA, 0xFB, 0x43, 0x4D, 0x33, 0x85, 0x45, 0xF9, 0x02, 0x7F, 0x50, 0x3C, 0x9F, 0xA8,\n",
    "    0x51, 0xA3, 0x40, 0x8F, 0x92, 0x9D, 0x38, 0xF5, 0xBC, 0xB6, 0xDA, 0x21, 0x10, 0xFF, 0xF3, 0xD2,\n",
    "    0xCD, 0x0C, 0x13, 0xEC, 0x5F, 0x97, 0x44, 0x17, 0xC4, 0xA7, 0x7E, 0x3D, 0x64, 0x5D, 0x19, 0x73,\n",
    "    0x60, 0x81, 0x4F, 0xDC, 0x22, 0x2A, 0x90, 0x88, 0x46, 0xEE, 0xB8, 0x14, 0xDE, 0x5E, 0x0B, 0xDB,\n",
    "    0xE0, 0x32, 0x3A, 0x0A, 0x49, 0x06, 0x24, 0x5C, 0xC2, 0xD3, 0xAC, 0x62, 0x91, 0x95, 0xE4, 0x79,\n",
    "    0xE7, 0xC8, 0x37, 0x6D, 0x8D, 0xD5, 0x4E, 0xA9, 0x6C, 0x56, 0xF4, 0xEA, 0x65, 0x7A, 0xAE, 0x08,\n",
    "    0xBA, 0x78, 0x25, 0x2E, 0x1C, 0xA6, 0xB4, 0xC6, 0xE8, 0xDD, 0x74, 0x1F, 0x4B, 0xBD, 0x8B, 0x8A,\n",
    "    0x70, 0x3E, 0xB5, 0x66, 0x48, 0x03, 0xF6, 0x0E, 0x61, 0x35, 0x57, 0xB9, 0x86, 0xC1, 0x1D, 0x9E,\n",
    "    0xE1, 0xF8, 0x98, 0x11, 0x69, 0xD9, 0x8E, 0x94, 0x9B, 0x1E, 0x87, 0xE9, 0xCE, 0x55, 0x28, 0xDF,\n",
    "    0x8C, 0xA1, 0x89, 0x0D, 0xBF, 0xE6, 0x42, 0x68, 0x41, 0x99, 0x2D, 0x0F, 0xB0, 0x54, 0xBB, 0x16\n",
    "])\n",
    "def snr(obs_value, traces):\n",
    "    max_val = np.max(obs_value)\n",
    "    means = [None] * (max_val + 1)\n",
    "    varss = [None] * (max_val + 1)\n",
    "    for i in range(max_val + 1):\n",
    "        means[i] = np.mean(traces[obs_value == i], axis=0)\n",
    "        varss[i] = np.var(traces[obs_value == i], axis=0)\n",
    "    means = np.array(means)\n",
    "    varss = np.array(varss)\n",
    "    snr = np.zeros_like(means[0])\n",
    "    u_tot = np.mean(means, axis=0)\n",
    "    v_tot = np.mean(varss, axis=0)\n",
    "    for i in range(max_val + 1):\n",
    "        snr += np.power(means[i]-u_tot, 2)\n",
    "    snr = snr / v_tot\n",
    "    return snr\n",
    "def partial_key(key_guess, attack_byte, pt, traces): # ^ = XOR\n",
    "    # xoring plaintext with key guess\n",
    "    hypotheses = np.array([HW[sbox[pt[i, attack_byte] ^ key_guess]] for i in range(pt.shape[0])])\n",
    "    # we use the hypotheses and calculate the correlation\n",
    "    \n",
    "    return np.max(np.corrcoef(hypotheses, traces, rowvar=False)[0, 1:])\n",
    "def random_subset(size, *a):\n",
    "    \"\"\"\n",
    "    Takes a random subset of size :size: from the given arrays. Makes sure that the rows of the arrays still match after shuffling.\n",
    "    Example usage: subset_train, subset_labels = random_subset(10, training_set, training_labels)\n",
    "\n",
    "    :size: size of the subset\n",
    "    :*a: arrays to take subset of\n",
    "    \"\"\"\n",
    "    combined = list(zip(*a))\n",
    "    random.shuffle(combined)\n",
    "    b = [np.array(i)[:size] for i in zip(*combined)]\n",
    "\n",
    "    return b\n",
    "\n",
    "def ge_sr(traces, plaintext, key, byte, model, success_cutoff, nr_attack_traces, averaging_nr, track=False, data_augment=None):\n",
    "    \"\"\"\n",
    "    Returns (guessing entropy, success rate) tuple of the given model over the given traces\n",
    "\n",
    "    :traces: all available attacking traces\n",
    "    :plaintext: all corresponding plaintext\n",
    "    :key: the real key\n",
    "    :byte: byte of key to attack\n",
    "    :model: model used for making predictions\n",
    "    :success_cutoff: cutoff to calculate success rate (key rank < success_cutoff)\n",
    "    :nr_attack_traces: number of traces to use for attacking\n",
    "    :averaging_nr: number of times to perform attack on subtraces in order to calculate the guessing entropy and success rate\n",
    "    :track: boolean to indicate whether the guessing entropy should be tracked for each trace amount up to :nr_attack_traces:\n",
    "    :data_augment: Default None. If not None, should be a function which takes traces as input and returns the augmented traces.\n",
    "    \"\"\"\n",
    "\n",
    "    if track:\n",
    "        key_ranks = np.zeros((averaging_nr, nr_attack_traces))\n",
    "        successes = np.zeros((averaging_nr, nr_attack_traces))\n",
    "    else:\n",
    "        key_ranks = np.zeros((averaging_nr))\n",
    "        successes = np.zeros((averaging_nr))\n",
    "\n",
    "    for run in tqdm(range(averaging_nr), desc=\"run\", leave=False):\n",
    "        # take a random subset from the attacking traces\n",
    "        attack_traces, attack_plaintext = random_subset(\n",
    "            nr_attack_traces, traces, plaintext)\n",
    "\n",
    "        if data_augment:\n",
    "            print(f\"applying data augmentation\")\n",
    "            attack_traces = data_augment(attack_traces)\n",
    "        \n",
    "        # make predictions: probability of each label, where label = sbox[plt[byte] ^ key[byte]]\n",
    "        predictions = model(attack_traces, training=False)\n",
    "\n",
    "        # convert probability to log values\n",
    "        predictions = np.log(predictions+1e-20)\n",
    "        _, leakage_mdl = predictions.shape\n",
    "            \n",
    "        # set the key probabilities to 0 for each key hypothesis\n",
    "        key_probabilities = np.zeros(256)\n",
    "\n",
    "        # for each trace, add up the log(probability) of each key hypothesis\n",
    "        for i in tqdm(range(nr_attack_traces), desc='attack', leave=False):\n",
    "            for k in range(256):\n",
    "                if leakage_mdl == 9:\n",
    "                    key_probabilities[k] += predictions[i, HW[sbox[attack_plaintext[i, byte] ^ k]]]\n",
    "                else:\n",
    "                    key_probabilities[k] += predictions[i, sbox[attack_plaintext[i, byte] ^ k]]\n",
    "\n",
    "            # if tracking per trace, then add to key_ranks and successes array here\n",
    "            if track:\n",
    "                # now key_probabilities contains estimated key probability after i traces\n",
    "                key_rank = list(np.argsort(key_probabilities)\n",
    "                                [::-1]).index(key[byte])\n",
    "                success = int(key_rank < success_cutoff)\n",
    "\n",
    "                key_ranks[run, i] = key_rank\n",
    "                successes[run, i] = success\n",
    "\n",
    "        # if not tracking per trace, only add to key_ranks and successes array after all traces are attacked\n",
    "        if not track:\n",
    "            # now key_probabilities contains the estimated key probability of each key after the full attack\n",
    "            # argsort()[::-1] -> sorts key values from most likely to least likely. Then get index of actual key byte to get the key rank.\n",
    "            key_rank = list(np.argsort(key_probabilities)\n",
    "                            [::-1]).index(key[byte])\n",
    "\n",
    "            success = int(key_rank < success_cutoff)\n",
    "\n",
    "            key_ranks[run] = key_rank\n",
    "            successes[run] = success\n",
    "\n",
    "    return np.mean(key_ranks, axis=0), np.mean(successes, axis=0)"
   ]
  },
  {
   "cell_type": "markdown",
   "metadata": {},
   "source": [
    "## Loading the MLP model"
   ]
  },
  {
   "cell_type": "code",
   "execution_count": 3,
   "metadata": {},
   "outputs": [
    {
     "name": "stdout",
     "output_type": "stream",
     "text": [
      "Metal device set to: Apple M1\n",
      "\n",
      "systemMemory: 16.00 GB\n",
      "maxCacheSize: 5.33 GB\n",
      "\n"
     ]
    },
    {
     "name": "stderr",
     "output_type": "stream",
     "text": [
      "2023-06-04 18:10:41.969482: I tensorflow/core/common_runtime/pluggable_device/pluggable_device_factory.cc:303] Could not identify NUMA node of platform GPU ID 0, defaulting to 0. Your kernel may not have been built with NUMA support.\n",
      "2023-06-04 18:10:41.969506: I tensorflow/core/common_runtime/pluggable_device/pluggable_device_factory.cc:269] Created TensorFlow device (/job:localhost/replica:0/task:0/device:GPU:0 with 0 MB memory) -> physical PluggableDevice (device: 0, name: METAL, pci bus id: <undefined>)\n"
     ]
    },
    {
     "name": "stdout",
     "output_type": "stream",
     "text": [
      "Model: \"sequential_22\"\n",
      "_________________________________________________________________\n",
      " Layer (type)                Output Shape              Param #   \n",
      "=================================================================\n",
      " dense_125 (Dense)           (None, 200)               20200     \n",
      "                                                                 \n",
      " dense_126 (Dense)           (None, 200)               40200     \n",
      "                                                                 \n",
      " dense_127 (Dense)           (None, 200)               40200     \n",
      "                                                                 \n",
      " dense_128 (Dense)           (None, 200)               40200     \n",
      "                                                                 \n",
      " dense_129 (Dense)           (None, 200)               40200     \n",
      "                                                                 \n",
      " dense_130 (Dense)           (None, 256)               51456     \n",
      "                                                                 \n",
      "=================================================================\n",
      "Total params: 232456 (908.03 KB)\n",
      "Trainable params: 232456 (908.03 KB)\n",
      "Non-trainable params: 0 (0.00 Byte)\n",
      "_________________________________________________________________\n"
     ]
    }
   ],
   "source": [
    "model_mlp = tf.keras.models.load_model('log_mpl')\n",
    "model_mlp.summary()\n",
    "#model_cnn = tf.keras.models.load_model('log')"
   ]
  },
  {
   "cell_type": "markdown",
   "metadata": {},
   "source": [
    "## Loading the dataset"
   ]
  },
  {
   "cell_type": "code",
   "execution_count": 4,
   "metadata": {},
   "outputs": [],
   "source": [
    "\n",
    "x_train, x_test, labels_train, labels_test, plt_train, plt_test, keys_train, keys_test, masks_train, masks_test = read_data('Base_desync0.h5')"
   ]
  },
  {
   "cell_type": "markdown",
   "metadata": {},
   "source": [
    "# Preprocessing\n",
    "I used the PCA to reduce the dimensionality to 100 features."
   ]
  },
  {
   "cell_type": "code",
   "execution_count": 5,
   "metadata": {},
   "outputs": [],
   "source": [
    "attack_byte = 2\n",
    "from sklearn.decomposition import PCA\n",
    "pca =PCA(n_components=100)\n",
    "X_train = pca.fit_transform(x_train)\n",
    "X_test = pca.transform(x_test)"
   ]
  },
  {
   "cell_type": "markdown",
   "metadata": {},
   "source": [
    "# Testing"
   ]
  },
  {
   "cell_type": "code",
   "execution_count": 7,
   "metadata": {},
   "outputs": [
    {
     "name": "stdout",
     "output_type": "stream",
     "text": [
      "Enabling notebook extension jupyter-js-widgets/extension...\n",
      "      - Validating: \u001b[32mOK\u001b[0m\n"
     ]
    },
    {
     "data": {
      "application/vnd.jupyter.widget-view+json": {
       "model_id": "870aa6e7a3fd422eb62a4bd8f5b1a72f",
       "version_major": 2,
       "version_minor": 0
      },
      "text/plain": [
       "run:   0%|          | 0/100 [00:00<?, ?it/s]"
      ]
     },
     "metadata": {},
     "output_type": "display_data"
    },
    {
     "data": {
      "application/vnd.jupyter.widget-view+json": {
       "model_id": "a5568a4850df468bbe31fe4727db96ce",
       "version_major": 2,
       "version_minor": 0
      },
      "text/plain": [
       "attack:   0%|          | 0/600 [00:00<?, ?it/s]"
      ]
     },
     "metadata": {},
     "output_type": "display_data"
    },
    {
     "data": {
      "application/vnd.jupyter.widget-view+json": {
       "model_id": "9c7b943f84214b0bb5e73a0af77c8066",
       "version_major": 2,
       "version_minor": 0
      },
      "text/plain": [
       "attack:   0%|          | 0/600 [00:00<?, ?it/s]"
      ]
     },
     "metadata": {},
     "output_type": "display_data"
    },
    {
     "data": {
      "application/vnd.jupyter.widget-view+json": {
       "model_id": "31d8fed00e564d74b5108432e4c9262e",
       "version_major": 2,
       "version_minor": 0
      },
      "text/plain": [
       "attack:   0%|          | 0/600 [00:00<?, ?it/s]"
      ]
     },
     "metadata": {},
     "output_type": "display_data"
    },
    {
     "data": {
      "application/vnd.jupyter.widget-view+json": {
       "model_id": "71d9cf94cda449a98f48879eab9bcd74",
       "version_major": 2,
       "version_minor": 0
      },
      "text/plain": [
       "attack:   0%|          | 0/600 [00:00<?, ?it/s]"
      ]
     },
     "metadata": {},
     "output_type": "display_data"
    },
    {
     "data": {
      "application/vnd.jupyter.widget-view+json": {
       "model_id": "31eb4fa57cbc46eca413a390a8a3d522",
       "version_major": 2,
       "version_minor": 0
      },
      "text/plain": [
       "attack:   0%|          | 0/600 [00:00<?, ?it/s]"
      ]
     },
     "metadata": {},
     "output_type": "display_data"
    },
    {
     "data": {
      "application/vnd.jupyter.widget-view+json": {
       "model_id": "10bb4346f905486d9c901d0b45215a8d",
       "version_major": 2,
       "version_minor": 0
      },
      "text/plain": [
       "attack:   0%|          | 0/600 [00:00<?, ?it/s]"
      ]
     },
     "metadata": {},
     "output_type": "display_data"
    },
    {
     "data": {
      "application/vnd.jupyter.widget-view+json": {
       "model_id": "ea655a87adaf43a68eed8a316d739f26",
       "version_major": 2,
       "version_minor": 0
      },
      "text/plain": [
       "attack:   0%|          | 0/600 [00:00<?, ?it/s]"
      ]
     },
     "metadata": {},
     "output_type": "display_data"
    },
    {
     "data": {
      "application/vnd.jupyter.widget-view+json": {
       "model_id": "3e32b05c8f574a878a6c9efe40a26904",
       "version_major": 2,
       "version_minor": 0
      },
      "text/plain": [
       "attack:   0%|          | 0/600 [00:00<?, ?it/s]"
      ]
     },
     "metadata": {},
     "output_type": "display_data"
    },
    {
     "data": {
      "application/vnd.jupyter.widget-view+json": {
       "model_id": "e7616d401fee4eb780121fa37d3742a8",
       "version_major": 2,
       "version_minor": 0
      },
      "text/plain": [
       "attack:   0%|          | 0/600 [00:00<?, ?it/s]"
      ]
     },
     "metadata": {},
     "output_type": "display_data"
    },
    {
     "data": {
      "application/vnd.jupyter.widget-view+json": {
       "model_id": "bfeef1ad45294b5f9e95dadca8444969",
       "version_major": 2,
       "version_minor": 0
      },
      "text/plain": [
       "attack:   0%|          | 0/600 [00:00<?, ?it/s]"
      ]
     },
     "metadata": {},
     "output_type": "display_data"
    },
    {
     "data": {
      "application/vnd.jupyter.widget-view+json": {
       "model_id": "01450e9ff5a0421c90422a43252ff60e",
       "version_major": 2,
       "version_minor": 0
      },
      "text/plain": [
       "attack:   0%|          | 0/600 [00:00<?, ?it/s]"
      ]
     },
     "metadata": {},
     "output_type": "display_data"
    },
    {
     "data": {
      "application/vnd.jupyter.widget-view+json": {
       "model_id": "7a8b8504a3eb426ead665a28ec778888",
       "version_major": 2,
       "version_minor": 0
      },
      "text/plain": [
       "attack:   0%|          | 0/600 [00:00<?, ?it/s]"
      ]
     },
     "metadata": {},
     "output_type": "display_data"
    },
    {
     "data": {
      "application/vnd.jupyter.widget-view+json": {
       "model_id": "b1861df4a468482fa02d4c69e89f8f88",
       "version_major": 2,
       "version_minor": 0
      },
      "text/plain": [
       "attack:   0%|          | 0/600 [00:00<?, ?it/s]"
      ]
     },
     "metadata": {},
     "output_type": "display_data"
    },
    {
     "data": {
      "application/vnd.jupyter.widget-view+json": {
       "model_id": "c6757b91a4174a458cbc4c82cbf99448",
       "version_major": 2,
       "version_minor": 0
      },
      "text/plain": [
       "attack:   0%|          | 0/600 [00:00<?, ?it/s]"
      ]
     },
     "metadata": {},
     "output_type": "display_data"
    },
    {
     "data": {
      "application/vnd.jupyter.widget-view+json": {
       "model_id": "c2caa67d37fe438d82bd4d981cc983f9",
       "version_major": 2,
       "version_minor": 0
      },
      "text/plain": [
       "attack:   0%|          | 0/600 [00:00<?, ?it/s]"
      ]
     },
     "metadata": {},
     "output_type": "display_data"
    },
    {
     "data": {
      "application/vnd.jupyter.widget-view+json": {
       "model_id": "9ef6d80ed992469b843648140fdd59b3",
       "version_major": 2,
       "version_minor": 0
      },
      "text/plain": [
       "attack:   0%|          | 0/600 [00:00<?, ?it/s]"
      ]
     },
     "metadata": {},
     "output_type": "display_data"
    },
    {
     "data": {
      "application/vnd.jupyter.widget-view+json": {
       "model_id": "fe0ab2bcc2c149259dd95aecebae2ec8",
       "version_major": 2,
       "version_minor": 0
      },
      "text/plain": [
       "attack:   0%|          | 0/600 [00:00<?, ?it/s]"
      ]
     },
     "metadata": {},
     "output_type": "display_data"
    },
    {
     "data": {
      "application/vnd.jupyter.widget-view+json": {
       "model_id": "3ddbb182eb5f415ab754f81fe4d33d3c",
       "version_major": 2,
       "version_minor": 0
      },
      "text/plain": [
       "attack:   0%|          | 0/600 [00:00<?, ?it/s]"
      ]
     },
     "metadata": {},
     "output_type": "display_data"
    },
    {
     "data": {
      "application/vnd.jupyter.widget-view+json": {
       "model_id": "61b84095403440faa6065dcb68979005",
       "version_major": 2,
       "version_minor": 0
      },
      "text/plain": [
       "attack:   0%|          | 0/600 [00:00<?, ?it/s]"
      ]
     },
     "metadata": {},
     "output_type": "display_data"
    },
    {
     "data": {
      "application/vnd.jupyter.widget-view+json": {
       "model_id": "fee44af6996d4e9e8fe9cefeae763058",
       "version_major": 2,
       "version_minor": 0
      },
      "text/plain": [
       "attack:   0%|          | 0/600 [00:00<?, ?it/s]"
      ]
     },
     "metadata": {},
     "output_type": "display_data"
    },
    {
     "data": {
      "application/vnd.jupyter.widget-view+json": {
       "model_id": "0627610c6064414ab540d3686e967c06",
       "version_major": 2,
       "version_minor": 0
      },
      "text/plain": [
       "attack:   0%|          | 0/600 [00:00<?, ?it/s]"
      ]
     },
     "metadata": {},
     "output_type": "display_data"
    },
    {
     "data": {
      "application/vnd.jupyter.widget-view+json": {
       "model_id": "660bac46f1f54378a932cddacc04dc4a",
       "version_major": 2,
       "version_minor": 0
      },
      "text/plain": [
       "attack:   0%|          | 0/600 [00:00<?, ?it/s]"
      ]
     },
     "metadata": {},
     "output_type": "display_data"
    },
    {
     "data": {
      "application/vnd.jupyter.widget-view+json": {
       "model_id": "61ee89f960824f32b3ad28ac8da69200",
       "version_major": 2,
       "version_minor": 0
      },
      "text/plain": [
       "attack:   0%|          | 0/600 [00:00<?, ?it/s]"
      ]
     },
     "metadata": {},
     "output_type": "display_data"
    },
    {
     "data": {
      "application/vnd.jupyter.widget-view+json": {
       "model_id": "99defbdb93974f3ea961776953ac8268",
       "version_major": 2,
       "version_minor": 0
      },
      "text/plain": [
       "attack:   0%|          | 0/600 [00:00<?, ?it/s]"
      ]
     },
     "metadata": {},
     "output_type": "display_data"
    },
    {
     "data": {
      "application/vnd.jupyter.widget-view+json": {
       "model_id": "f5ee5cafc752421b9116b3c53f0b6816",
       "version_major": 2,
       "version_minor": 0
      },
      "text/plain": [
       "attack:   0%|          | 0/600 [00:00<?, ?it/s]"
      ]
     },
     "metadata": {},
     "output_type": "display_data"
    },
    {
     "data": {
      "application/vnd.jupyter.widget-view+json": {
       "model_id": "a6b0fc8b233b4051a865ad2df346f276",
       "version_major": 2,
       "version_minor": 0
      },
      "text/plain": [
       "attack:   0%|          | 0/600 [00:00<?, ?it/s]"
      ]
     },
     "metadata": {},
     "output_type": "display_data"
    },
    {
     "data": {
      "application/vnd.jupyter.widget-view+json": {
       "model_id": "3f617b42467643528239ebe3d3780b55",
       "version_major": 2,
       "version_minor": 0
      },
      "text/plain": [
       "attack:   0%|          | 0/600 [00:00<?, ?it/s]"
      ]
     },
     "metadata": {},
     "output_type": "display_data"
    },
    {
     "data": {
      "application/vnd.jupyter.widget-view+json": {
       "model_id": "3a62f47780334870b37a51dda43328f7",
       "version_major": 2,
       "version_minor": 0
      },
      "text/plain": [
       "attack:   0%|          | 0/600 [00:00<?, ?it/s]"
      ]
     },
     "metadata": {},
     "output_type": "display_data"
    },
    {
     "data": {
      "application/vnd.jupyter.widget-view+json": {
       "model_id": "ada2285ffc284423842c69bbe0512bb6",
       "version_major": 2,
       "version_minor": 0
      },
      "text/plain": [
       "attack:   0%|          | 0/600 [00:00<?, ?it/s]"
      ]
     },
     "metadata": {},
     "output_type": "display_data"
    },
    {
     "data": {
      "application/vnd.jupyter.widget-view+json": {
       "model_id": "21f81f980acd45908ddb0917cec90b6b",
       "version_major": 2,
       "version_minor": 0
      },
      "text/plain": [
       "attack:   0%|          | 0/600 [00:00<?, ?it/s]"
      ]
     },
     "metadata": {},
     "output_type": "display_data"
    },
    {
     "data": {
      "application/vnd.jupyter.widget-view+json": {
       "model_id": "6af7758c5e8f4da58fd92522be28140f",
       "version_major": 2,
       "version_minor": 0
      },
      "text/plain": [
       "attack:   0%|          | 0/600 [00:00<?, ?it/s]"
      ]
     },
     "metadata": {},
     "output_type": "display_data"
    },
    {
     "data": {
      "application/vnd.jupyter.widget-view+json": {
       "model_id": "0378968c0d8b4510967cd3a9c2dc18e8",
       "version_major": 2,
       "version_minor": 0
      },
      "text/plain": [
       "attack:   0%|          | 0/600 [00:00<?, ?it/s]"
      ]
     },
     "metadata": {},
     "output_type": "display_data"
    },
    {
     "data": {
      "application/vnd.jupyter.widget-view+json": {
       "model_id": "a23408018be64726a778674a863f1afe",
       "version_major": 2,
       "version_minor": 0
      },
      "text/plain": [
       "attack:   0%|          | 0/600 [00:00<?, ?it/s]"
      ]
     },
     "metadata": {},
     "output_type": "display_data"
    },
    {
     "data": {
      "application/vnd.jupyter.widget-view+json": {
       "model_id": "0dc1875cd8a048f990b687f90223c89c",
       "version_major": 2,
       "version_minor": 0
      },
      "text/plain": [
       "attack:   0%|          | 0/600 [00:00<?, ?it/s]"
      ]
     },
     "metadata": {},
     "output_type": "display_data"
    },
    {
     "data": {
      "application/vnd.jupyter.widget-view+json": {
       "model_id": "f9fc409c7b494ef08ff91648d9b86099",
       "version_major": 2,
       "version_minor": 0
      },
      "text/plain": [
       "attack:   0%|          | 0/600 [00:00<?, ?it/s]"
      ]
     },
     "metadata": {},
     "output_type": "display_data"
    },
    {
     "data": {
      "application/vnd.jupyter.widget-view+json": {
       "model_id": "09d770523c484d51b42b588af5627cae",
       "version_major": 2,
       "version_minor": 0
      },
      "text/plain": [
       "attack:   0%|          | 0/600 [00:00<?, ?it/s]"
      ]
     },
     "metadata": {},
     "output_type": "display_data"
    },
    {
     "data": {
      "application/vnd.jupyter.widget-view+json": {
       "model_id": "b09e1ae53cec4a3b814723380c80c8c0",
       "version_major": 2,
       "version_minor": 0
      },
      "text/plain": [
       "attack:   0%|          | 0/600 [00:00<?, ?it/s]"
      ]
     },
     "metadata": {},
     "output_type": "display_data"
    },
    {
     "data": {
      "application/vnd.jupyter.widget-view+json": {
       "model_id": "dd1072b31be145eca7e3b2b3ae760c73",
       "version_major": 2,
       "version_minor": 0
      },
      "text/plain": [
       "attack:   0%|          | 0/600 [00:00<?, ?it/s]"
      ]
     },
     "metadata": {},
     "output_type": "display_data"
    },
    {
     "data": {
      "application/vnd.jupyter.widget-view+json": {
       "model_id": "e55f5b0c63b94a73b3002465dd272ef9",
       "version_major": 2,
       "version_minor": 0
      },
      "text/plain": [
       "attack:   0%|          | 0/600 [00:00<?, ?it/s]"
      ]
     },
     "metadata": {},
     "output_type": "display_data"
    },
    {
     "data": {
      "application/vnd.jupyter.widget-view+json": {
       "model_id": "309a083864ff4a8193177b354d8f8da7",
       "version_major": 2,
       "version_minor": 0
      },
      "text/plain": [
       "attack:   0%|          | 0/600 [00:00<?, ?it/s]"
      ]
     },
     "metadata": {},
     "output_type": "display_data"
    },
    {
     "data": {
      "application/vnd.jupyter.widget-view+json": {
       "model_id": "0db6fff9ebb746dbac4bf0a83e073943",
       "version_major": 2,
       "version_minor": 0
      },
      "text/plain": [
       "attack:   0%|          | 0/600 [00:00<?, ?it/s]"
      ]
     },
     "metadata": {},
     "output_type": "display_data"
    },
    {
     "data": {
      "application/vnd.jupyter.widget-view+json": {
       "model_id": "8607bf82ad774c469ec817823623f214",
       "version_major": 2,
       "version_minor": 0
      },
      "text/plain": [
       "attack:   0%|          | 0/600 [00:00<?, ?it/s]"
      ]
     },
     "metadata": {},
     "output_type": "display_data"
    },
    {
     "data": {
      "application/vnd.jupyter.widget-view+json": {
       "model_id": "c01448ebe5724104a48517d8e6e81d18",
       "version_major": 2,
       "version_minor": 0
      },
      "text/plain": [
       "attack:   0%|          | 0/600 [00:00<?, ?it/s]"
      ]
     },
     "metadata": {},
     "output_type": "display_data"
    },
    {
     "data": {
      "application/vnd.jupyter.widget-view+json": {
       "model_id": "3641abeb01214f1b8a3b62bb057d49c6",
       "version_major": 2,
       "version_minor": 0
      },
      "text/plain": [
       "attack:   0%|          | 0/600 [00:00<?, ?it/s]"
      ]
     },
     "metadata": {},
     "output_type": "display_data"
    },
    {
     "data": {
      "application/vnd.jupyter.widget-view+json": {
       "model_id": "0f0395e2518047b484aabeb0976f8f28",
       "version_major": 2,
       "version_minor": 0
      },
      "text/plain": [
       "attack:   0%|          | 0/600 [00:00<?, ?it/s]"
      ]
     },
     "metadata": {},
     "output_type": "display_data"
    },
    {
     "data": {
      "application/vnd.jupyter.widget-view+json": {
       "model_id": "d7c3bbd5ea764b1f94c2ab2bda965598",
       "version_major": 2,
       "version_minor": 0
      },
      "text/plain": [
       "attack:   0%|          | 0/600 [00:00<?, ?it/s]"
      ]
     },
     "metadata": {},
     "output_type": "display_data"
    },
    {
     "data": {
      "application/vnd.jupyter.widget-view+json": {
       "model_id": "c9aba17519b44932818687f5d7927c80",
       "version_major": 2,
       "version_minor": 0
      },
      "text/plain": [
       "attack:   0%|          | 0/600 [00:00<?, ?it/s]"
      ]
     },
     "metadata": {},
     "output_type": "display_data"
    },
    {
     "data": {
      "application/vnd.jupyter.widget-view+json": {
       "model_id": "e59c5ab4b03b4e2f8a519a9a45d5563c",
       "version_major": 2,
       "version_minor": 0
      },
      "text/plain": [
       "attack:   0%|          | 0/600 [00:00<?, ?it/s]"
      ]
     },
     "metadata": {},
     "output_type": "display_data"
    },
    {
     "data": {
      "application/vnd.jupyter.widget-view+json": {
       "model_id": "6c08adfbb1bc48b79a544669d0b2b426",
       "version_major": 2,
       "version_minor": 0
      },
      "text/plain": [
       "attack:   0%|          | 0/600 [00:00<?, ?it/s]"
      ]
     },
     "metadata": {},
     "output_type": "display_data"
    },
    {
     "data": {
      "application/vnd.jupyter.widget-view+json": {
       "model_id": "09a919471a65406cb7e2145014fd2f21",
       "version_major": 2,
       "version_minor": 0
      },
      "text/plain": [
       "attack:   0%|          | 0/600 [00:00<?, ?it/s]"
      ]
     },
     "metadata": {},
     "output_type": "display_data"
    },
    {
     "data": {
      "application/vnd.jupyter.widget-view+json": {
       "model_id": "a5d69677c0d24064a9ad0db44183ac1e",
       "version_major": 2,
       "version_minor": 0
      },
      "text/plain": [
       "attack:   0%|          | 0/600 [00:00<?, ?it/s]"
      ]
     },
     "metadata": {},
     "output_type": "display_data"
    },
    {
     "data": {
      "application/vnd.jupyter.widget-view+json": {
       "model_id": "0b22d99a47a64804a30976e02e8c5107",
       "version_major": 2,
       "version_minor": 0
      },
      "text/plain": [
       "attack:   0%|          | 0/600 [00:00<?, ?it/s]"
      ]
     },
     "metadata": {},
     "output_type": "display_data"
    },
    {
     "data": {
      "application/vnd.jupyter.widget-view+json": {
       "model_id": "6c11967083b143e6a41f4126898538a4",
       "version_major": 2,
       "version_minor": 0
      },
      "text/plain": [
       "attack:   0%|          | 0/600 [00:00<?, ?it/s]"
      ]
     },
     "metadata": {},
     "output_type": "display_data"
    },
    {
     "data": {
      "application/vnd.jupyter.widget-view+json": {
       "model_id": "63107f2954d44ba8823410d576e5bc33",
       "version_major": 2,
       "version_minor": 0
      },
      "text/plain": [
       "attack:   0%|          | 0/600 [00:00<?, ?it/s]"
      ]
     },
     "metadata": {},
     "output_type": "display_data"
    },
    {
     "data": {
      "application/vnd.jupyter.widget-view+json": {
       "model_id": "f667b9eec23244ef84cd48636137d0d2",
       "version_major": 2,
       "version_minor": 0
      },
      "text/plain": [
       "attack:   0%|          | 0/600 [00:00<?, ?it/s]"
      ]
     },
     "metadata": {},
     "output_type": "display_data"
    },
    {
     "data": {
      "application/vnd.jupyter.widget-view+json": {
       "model_id": "4bf8b1f5c3a84bc1817373b3889b10f6",
       "version_major": 2,
       "version_minor": 0
      },
      "text/plain": [
       "attack:   0%|          | 0/600 [00:00<?, ?it/s]"
      ]
     },
     "metadata": {},
     "output_type": "display_data"
    },
    {
     "data": {
      "application/vnd.jupyter.widget-view+json": {
       "model_id": "eb67d76eae914572831631b5a9c978eb",
       "version_major": 2,
       "version_minor": 0
      },
      "text/plain": [
       "attack:   0%|          | 0/600 [00:00<?, ?it/s]"
      ]
     },
     "metadata": {},
     "output_type": "display_data"
    },
    {
     "data": {
      "application/vnd.jupyter.widget-view+json": {
       "model_id": "f7a95fd904974dd3a8f7b8ce5816fefa",
       "version_major": 2,
       "version_minor": 0
      },
      "text/plain": [
       "attack:   0%|          | 0/600 [00:00<?, ?it/s]"
      ]
     },
     "metadata": {},
     "output_type": "display_data"
    },
    {
     "data": {
      "application/vnd.jupyter.widget-view+json": {
       "model_id": "351401bac7d648cb891f89c85adcbeb9",
       "version_major": 2,
       "version_minor": 0
      },
      "text/plain": [
       "attack:   0%|          | 0/600 [00:00<?, ?it/s]"
      ]
     },
     "metadata": {},
     "output_type": "display_data"
    },
    {
     "data": {
      "application/vnd.jupyter.widget-view+json": {
       "model_id": "d34d6b95ac6c4a71999aaab873659d4d",
       "version_major": 2,
       "version_minor": 0
      },
      "text/plain": [
       "attack:   0%|          | 0/600 [00:00<?, ?it/s]"
      ]
     },
     "metadata": {},
     "output_type": "display_data"
    },
    {
     "data": {
      "application/vnd.jupyter.widget-view+json": {
       "model_id": "43efe09907a34fc1854390e6f30b566a",
       "version_major": 2,
       "version_minor": 0
      },
      "text/plain": [
       "attack:   0%|          | 0/600 [00:00<?, ?it/s]"
      ]
     },
     "metadata": {},
     "output_type": "display_data"
    },
    {
     "data": {
      "application/vnd.jupyter.widget-view+json": {
       "model_id": "5ec718aa61d14d8f9e8abc62b6df13f9",
       "version_major": 2,
       "version_minor": 0
      },
      "text/plain": [
       "attack:   0%|          | 0/600 [00:00<?, ?it/s]"
      ]
     },
     "metadata": {},
     "output_type": "display_data"
    },
    {
     "data": {
      "application/vnd.jupyter.widget-view+json": {
       "model_id": "c89a7ad8fe8e476d87d5c625d2220f18",
       "version_major": 2,
       "version_minor": 0
      },
      "text/plain": [
       "attack:   0%|          | 0/600 [00:00<?, ?it/s]"
      ]
     },
     "metadata": {},
     "output_type": "display_data"
    },
    {
     "data": {
      "application/vnd.jupyter.widget-view+json": {
       "model_id": "d5845164bd194b5e8e67757d3225073f",
       "version_major": 2,
       "version_minor": 0
      },
      "text/plain": [
       "attack:   0%|          | 0/600 [00:00<?, ?it/s]"
      ]
     },
     "metadata": {},
     "output_type": "display_data"
    },
    {
     "data": {
      "application/vnd.jupyter.widget-view+json": {
       "model_id": "6786b560a57747628e31af4feb6141d3",
       "version_major": 2,
       "version_minor": 0
      },
      "text/plain": [
       "attack:   0%|          | 0/600 [00:00<?, ?it/s]"
      ]
     },
     "metadata": {},
     "output_type": "display_data"
    },
    {
     "data": {
      "application/vnd.jupyter.widget-view+json": {
       "model_id": "21db678df0424bac91fcf7cb07b1980f",
       "version_major": 2,
       "version_minor": 0
      },
      "text/plain": [
       "attack:   0%|          | 0/600 [00:00<?, ?it/s]"
      ]
     },
     "metadata": {},
     "output_type": "display_data"
    },
    {
     "data": {
      "application/vnd.jupyter.widget-view+json": {
       "model_id": "c7b08d991c40449a8c859734df0ba4f9",
       "version_major": 2,
       "version_minor": 0
      },
      "text/plain": [
       "attack:   0%|          | 0/600 [00:00<?, ?it/s]"
      ]
     },
     "metadata": {},
     "output_type": "display_data"
    },
    {
     "data": {
      "application/vnd.jupyter.widget-view+json": {
       "model_id": "9456ac3321184f78908c7036a5ad00f6",
       "version_major": 2,
       "version_minor": 0
      },
      "text/plain": [
       "attack:   0%|          | 0/600 [00:00<?, ?it/s]"
      ]
     },
     "metadata": {},
     "output_type": "display_data"
    },
    {
     "data": {
      "application/vnd.jupyter.widget-view+json": {
       "model_id": "5cac07d9ca034a61940d4537ccb5e3c6",
       "version_major": 2,
       "version_minor": 0
      },
      "text/plain": [
       "attack:   0%|          | 0/600 [00:00<?, ?it/s]"
      ]
     },
     "metadata": {},
     "output_type": "display_data"
    },
    {
     "data": {
      "application/vnd.jupyter.widget-view+json": {
       "model_id": "2f3cf1a1c2d24fb8a4b78e648a0135a7",
       "version_major": 2,
       "version_minor": 0
      },
      "text/plain": [
       "attack:   0%|          | 0/600 [00:00<?, ?it/s]"
      ]
     },
     "metadata": {},
     "output_type": "display_data"
    },
    {
     "data": {
      "application/vnd.jupyter.widget-view+json": {
       "model_id": "0cfedeaf3d844b49b80773b3d5ad1e91",
       "version_major": 2,
       "version_minor": 0
      },
      "text/plain": [
       "attack:   0%|          | 0/600 [00:00<?, ?it/s]"
      ]
     },
     "metadata": {},
     "output_type": "display_data"
    },
    {
     "data": {
      "application/vnd.jupyter.widget-view+json": {
       "model_id": "29fccf003bf54dfc89cb80b7854b7f9f",
       "version_major": 2,
       "version_minor": 0
      },
      "text/plain": [
       "attack:   0%|          | 0/600 [00:00<?, ?it/s]"
      ]
     },
     "metadata": {},
     "output_type": "display_data"
    },
    {
     "data": {
      "application/vnd.jupyter.widget-view+json": {
       "model_id": "3152fcf05e5142c5b44de144908a0cda",
       "version_major": 2,
       "version_minor": 0
      },
      "text/plain": [
       "attack:   0%|          | 0/600 [00:00<?, ?it/s]"
      ]
     },
     "metadata": {},
     "output_type": "display_data"
    },
    {
     "data": {
      "application/vnd.jupyter.widget-view+json": {
       "model_id": "aea2454824054e52803774ba44008ae9",
       "version_major": 2,
       "version_minor": 0
      },
      "text/plain": [
       "attack:   0%|          | 0/600 [00:00<?, ?it/s]"
      ]
     },
     "metadata": {},
     "output_type": "display_data"
    },
    {
     "data": {
      "application/vnd.jupyter.widget-view+json": {
       "model_id": "2f70cf05a04b42db942314a49c7c9dd5",
       "version_major": 2,
       "version_minor": 0
      },
      "text/plain": [
       "attack:   0%|          | 0/600 [00:00<?, ?it/s]"
      ]
     },
     "metadata": {},
     "output_type": "display_data"
    },
    {
     "data": {
      "application/vnd.jupyter.widget-view+json": {
       "model_id": "c70e010eaaf94b14b0835fa084ccef35",
       "version_major": 2,
       "version_minor": 0
      },
      "text/plain": [
       "attack:   0%|          | 0/600 [00:00<?, ?it/s]"
      ]
     },
     "metadata": {},
     "output_type": "display_data"
    },
    {
     "data": {
      "application/vnd.jupyter.widget-view+json": {
       "model_id": "bd95b2c135ae46c79f36efbd28d27283",
       "version_major": 2,
       "version_minor": 0
      },
      "text/plain": [
       "attack:   0%|          | 0/600 [00:00<?, ?it/s]"
      ]
     },
     "metadata": {},
     "output_type": "display_data"
    },
    {
     "data": {
      "application/vnd.jupyter.widget-view+json": {
       "model_id": "d26e0e51f2764b05918f164d82da8ece",
       "version_major": 2,
       "version_minor": 0
      },
      "text/plain": [
       "attack:   0%|          | 0/600 [00:00<?, ?it/s]"
      ]
     },
     "metadata": {},
     "output_type": "display_data"
    },
    {
     "data": {
      "application/vnd.jupyter.widget-view+json": {
       "model_id": "5687b22b1c574c5ea1b3207141324822",
       "version_major": 2,
       "version_minor": 0
      },
      "text/plain": [
       "attack:   0%|          | 0/600 [00:00<?, ?it/s]"
      ]
     },
     "metadata": {},
     "output_type": "display_data"
    },
    {
     "data": {
      "application/vnd.jupyter.widget-view+json": {
       "model_id": "371f070c12404f62b172b7f08864df80",
       "version_major": 2,
       "version_minor": 0
      },
      "text/plain": [
       "attack:   0%|          | 0/600 [00:00<?, ?it/s]"
      ]
     },
     "metadata": {},
     "output_type": "display_data"
    },
    {
     "data": {
      "application/vnd.jupyter.widget-view+json": {
       "model_id": "173fd35d31c2470faaa59c10948605eb",
       "version_major": 2,
       "version_minor": 0
      },
      "text/plain": [
       "attack:   0%|          | 0/600 [00:00<?, ?it/s]"
      ]
     },
     "metadata": {},
     "output_type": "display_data"
    },
    {
     "data": {
      "application/vnd.jupyter.widget-view+json": {
       "model_id": "67c7c21a59144c559173a0620b49aad0",
       "version_major": 2,
       "version_minor": 0
      },
      "text/plain": [
       "attack:   0%|          | 0/600 [00:00<?, ?it/s]"
      ]
     },
     "metadata": {},
     "output_type": "display_data"
    },
    {
     "data": {
      "application/vnd.jupyter.widget-view+json": {
       "model_id": "0b79e3bee7df43d8bd3b151bc0b4a8a9",
       "version_major": 2,
       "version_minor": 0
      },
      "text/plain": [
       "attack:   0%|          | 0/600 [00:00<?, ?it/s]"
      ]
     },
     "metadata": {},
     "output_type": "display_data"
    },
    {
     "data": {
      "application/vnd.jupyter.widget-view+json": {
       "model_id": "451734e8f4c549a0b531370f3cc58fb4",
       "version_major": 2,
       "version_minor": 0
      },
      "text/plain": [
       "attack:   0%|          | 0/600 [00:00<?, ?it/s]"
      ]
     },
     "metadata": {},
     "output_type": "display_data"
    },
    {
     "data": {
      "application/vnd.jupyter.widget-view+json": {
       "model_id": "25fc3258e7a5475d9e9bd0f397549b90",
       "version_major": 2,
       "version_minor": 0
      },
      "text/plain": [
       "attack:   0%|          | 0/600 [00:00<?, ?it/s]"
      ]
     },
     "metadata": {},
     "output_type": "display_data"
    },
    {
     "data": {
      "application/vnd.jupyter.widget-view+json": {
       "model_id": "cd87a11f0f884333a631360b95ce3732",
       "version_major": 2,
       "version_minor": 0
      },
      "text/plain": [
       "attack:   0%|          | 0/600 [00:00<?, ?it/s]"
      ]
     },
     "metadata": {},
     "output_type": "display_data"
    },
    {
     "data": {
      "application/vnd.jupyter.widget-view+json": {
       "model_id": "70aa89fb17d444eabb880993c80be159",
       "version_major": 2,
       "version_minor": 0
      },
      "text/plain": [
       "attack:   0%|          | 0/600 [00:00<?, ?it/s]"
      ]
     },
     "metadata": {},
     "output_type": "display_data"
    },
    {
     "data": {
      "application/vnd.jupyter.widget-view+json": {
       "model_id": "145d402f7ac746c48f57883a315b46cc",
       "version_major": 2,
       "version_minor": 0
      },
      "text/plain": [
       "attack:   0%|          | 0/600 [00:00<?, ?it/s]"
      ]
     },
     "metadata": {},
     "output_type": "display_data"
    },
    {
     "data": {
      "application/vnd.jupyter.widget-view+json": {
       "model_id": "739fdaa4d3ef40eabb935976274a8abc",
       "version_major": 2,
       "version_minor": 0
      },
      "text/plain": [
       "attack:   0%|          | 0/600 [00:00<?, ?it/s]"
      ]
     },
     "metadata": {},
     "output_type": "display_data"
    },
    {
     "data": {
      "application/vnd.jupyter.widget-view+json": {
       "model_id": "172e759a307f4ff79840af9f7671b4e5",
       "version_major": 2,
       "version_minor": 0
      },
      "text/plain": [
       "attack:   0%|          | 0/600 [00:00<?, ?it/s]"
      ]
     },
     "metadata": {},
     "output_type": "display_data"
    },
    {
     "data": {
      "application/vnd.jupyter.widget-view+json": {
       "model_id": "b6deb89740264d649d8d6e269b30b9de",
       "version_major": 2,
       "version_minor": 0
      },
      "text/plain": [
       "attack:   0%|          | 0/600 [00:00<?, ?it/s]"
      ]
     },
     "metadata": {},
     "output_type": "display_data"
    },
    {
     "data": {
      "application/vnd.jupyter.widget-view+json": {
       "model_id": "9d706459864b482693315aa0d2f1f498",
       "version_major": 2,
       "version_minor": 0
      },
      "text/plain": [
       "attack:   0%|          | 0/600 [00:00<?, ?it/s]"
      ]
     },
     "metadata": {},
     "output_type": "display_data"
    },
    {
     "data": {
      "application/vnd.jupyter.widget-view+json": {
       "model_id": "76f98dbffdd940aeba89dacfc8bf248d",
       "version_major": 2,
       "version_minor": 0
      },
      "text/plain": [
       "attack:   0%|          | 0/600 [00:00<?, ?it/s]"
      ]
     },
     "metadata": {},
     "output_type": "display_data"
    },
    {
     "data": {
      "application/vnd.jupyter.widget-view+json": {
       "model_id": "76274ea093a7404591705ca27235d23d",
       "version_major": 2,
       "version_minor": 0
      },
      "text/plain": [
       "attack:   0%|          | 0/600 [00:00<?, ?it/s]"
      ]
     },
     "metadata": {},
     "output_type": "display_data"
    },
    {
     "data": {
      "application/vnd.jupyter.widget-view+json": {
       "model_id": "2d153a1fcd5a453b855de53cc97e5eb4",
       "version_major": 2,
       "version_minor": 0
      },
      "text/plain": [
       "attack:   0%|          | 0/600 [00:00<?, ?it/s]"
      ]
     },
     "metadata": {},
     "output_type": "display_data"
    },
    {
     "data": {
      "application/vnd.jupyter.widget-view+json": {
       "model_id": "03630ef078284d378b72e7f13e64d7d1",
       "version_major": 2,
       "version_minor": 0
      },
      "text/plain": [
       "attack:   0%|          | 0/600 [00:00<?, ?it/s]"
      ]
     },
     "metadata": {},
     "output_type": "display_data"
    },
    {
     "data": {
      "application/vnd.jupyter.widget-view+json": {
       "model_id": "8097427f22f1409a9a789f107db542c2",
       "version_major": 2,
       "version_minor": 0
      },
      "text/plain": [
       "attack:   0%|          | 0/600 [00:00<?, ?it/s]"
      ]
     },
     "metadata": {},
     "output_type": "display_data"
    },
    {
     "data": {
      "application/vnd.jupyter.widget-view+json": {
       "model_id": "46729797467a4f45890bcb0911efbd75",
       "version_major": 2,
       "version_minor": 0
      },
      "text/plain": [
       "attack:   0%|          | 0/600 [00:00<?, ?it/s]"
      ]
     },
     "metadata": {},
     "output_type": "display_data"
    },
    {
     "data": {
      "application/vnd.jupyter.widget-view+json": {
       "model_id": "dc1b0de3a240440ea7c7108916bfc906",
       "version_major": 2,
       "version_minor": 0
      },
      "text/plain": [
       "attack:   0%|          | 0/600 [00:00<?, ?it/s]"
      ]
     },
     "metadata": {},
     "output_type": "display_data"
    },
    {
     "data": {
      "application/vnd.jupyter.widget-view+json": {
       "model_id": "4fcbfe55daf04248857a3ed81734377d",
       "version_major": 2,
       "version_minor": 0
      },
      "text/plain": [
       "attack:   0%|          | 0/600 [00:00<?, ?it/s]"
      ]
     },
     "metadata": {},
     "output_type": "display_data"
    }
   ],
   "source": [
    "!jupyter nbextension enable --py widgetsnbextension\n",
    "ge, sr=ge_sr(X_test, plt_test, keys_test[0], attack_byte, model_mlp,success_cutoff=1,nr_attack_traces=600,averaging_nr=100, track=True)\n"
   ]
  },
  {
   "cell_type": "code",
   "execution_count": 8,
   "metadata": {},
   "outputs": [
    {
     "data": {
      "text/plain": [
       "[]"
      ]
     },
     "execution_count": 8,
     "metadata": {},
     "output_type": "execute_result"
    },
    {
     "data": {
      "image/png": "[encoded data removed]",
      "text/plain": [
       "<Figure size 800x800 with 2 Axes>"
      ]
     },
     "metadata": {},
     "output_type": "display_data"
    }
   ],
   "source": [
    "f, axs = plt.subplots(2, 1, sharex=True, figsize=(8, 8))\n",
    "axs[0].plot(range(1, len(ge)+1), ge)\n",
    "axs[0].set_ylabel(\"Guessing Entropy\")\n",
    "axs[1].plot(range(1, len(sr)+1), sr)\n",
    "axs[1].set_ylabel(\"Success Rate\")\n",
    "axs[1].set_xlabel(\"Number of Traces\")\n",
    "\n",
    "plt.plot()"
   ]
  }
 ],
 "metadata": {
  "kernelspec": {
   "display_name": "Python 3",
   "language": "python",
   "name": "python3"
  },
  "language_info": {
   "codemirror_mode": {
    "name": "ipython",
    "version": 3
   },
   "file_extension": ".py",
   "mimetype": "text/x-python",
   "name": "python",
   "nbconvert_exporter": "python",
   "pygments_lexer": "ipython3",
   "version": "3.9.16"
  },
  "orig_nbformat": 4
 },
 "nbformat": 4,
 "nbformat_minor": 2
}
