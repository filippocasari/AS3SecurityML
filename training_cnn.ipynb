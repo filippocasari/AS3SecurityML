{
 "cells": [
  {
   "cell_type": "code",
   "execution_count": 7,
   "metadata": {},
   "outputs": [],
   "source": [
    "import numpy as np\n",
    "import h5py\n",
    "import matplotlib.pyplot as plt\n",
    "import scipy.stats\n",
    "from tqdm.notebook import tqdm\n",
    "from multiprocessing import Pool\n",
    "from functools import partial\n",
    "from scipy.stats import multivariate_normal\n",
    "import random\n",
    "import matplotlib\n",
    "import tensorflow as tf\n",
    "from tensorflow.keras.models import Model, Sequential\n",
    "from tensorflow.keras.layers import Flatten, Dense, Input, Conv1D, MaxPooling1D, GlobalAveragePooling1D, GlobalMaxPooling1D, AveragePooling1D, BatchNormalization, Activation, Add, add, Dropout\n",
    "from tensorflow.keras import backend as K\n",
    "from tensorflow.keras.applications.imagenet_utils import decode_predictions\n",
    "from tensorflow.keras.applications.imagenet_utils import preprocess_input\n",
    "#from tensorflow.keras.optimizers.legacy import RMSprop, Adam\n",
    "from tensorflow.keras.optimizers import RMSprop, Adam\n",
    "from tensorflow.keras.callbacks import ModelCheckpoint, EarlyStopping\n",
    "from tensorflow.keras.utils import to_categorical\n",
    "from tensorflow.keras.models import load_model\n",
    "import sys"
   ]
  },
  {
   "cell_type": "markdown",
   "metadata": {},
   "source": [
    "# Training CNN model\n",
    "(paper @ https://eprint.iacr.org/2018/053.pdf) \\\n",
    "I trained the CNN. "
   ]
  },
  {
   "cell_type": "code",
   "execution_count": 8,
   "metadata": {},
   "outputs": [],
   "source": [
    "# AES sbox\n",
    "HW = np.array([bin(n).count(\"1\") for n in range(0, 256)])\n",
    "def read_data(file_loc, raw=False):\n",
    "    \"\"\"\n",
    "    Reads in the ASCAD h5 dataset from the given dir_loc. If raw = False, reads ASCAD.h5 and assumes the simplified dataset structure.\n",
    "    If raw = True, reads ATMega8515_raw_traces.h5 and assumes the raw traces dataset structure. \n",
    "    Returns the tuple: (x_train, x_test, plt_train, plt_test, keys_train, keys_test)\n",
    "    :dir_loc: directory where the ASCAD dataset is located. Default = 'F:\\\\ASCAD\\\\ATMEGA_AES_v1\\\\ATM_AES_v1_fixed_key\\\\ASCAD_data\\\\ASCAD_databases\\\\'\n",
    "    :data_name: Dataset name. Default = 'ASCAD.h5'\n",
    "    \"\"\"\n",
    "    with h5py.File(file_loc, \"r\") as in_file:\n",
    "        # Load traces\n",
    "        x_train = np.array(\n",
    "            in_file['Profiling_traces/traces'], dtype=np.int8)\n",
    "        x_test = np.array(in_file['Attack_traces/traces'], dtype=np.int8)\n",
    "        # labels are sbox(plt[2] XOR key[2])\n",
    "        \n",
    "        labels_train = np.array(in_file['Profiling_traces/labels'])\n",
    "        labels_test = np.array(in_file['Attack_traces/labels'])\n",
    "        \n",
    "        plt_train = np.array(\n",
    "            in_file['Profiling_traces/metadata']['plaintext'])\n",
    "        plt_test = np.array(in_file['Attack_traces/metadata']['plaintext'])\n",
    "\n",
    "        keys_train = np.array(in_file['Profiling_traces/metadata']['key'])\n",
    "        keys_test = np.array(in_file['Attack_traces/metadata']['key'])\n",
    "        \n",
    "        masks_train = np.array(in_file['Profiling_traces/metadata']['masks'])\n",
    "        masks_test = np.array(in_file['Attack_traces/metadata']['masks'])\n",
    "        \n",
    "        return x_train, x_test, labels_train, labels_test, plt_train, plt_test, keys_train, keys_test, masks_train, masks_test\n",
    "sbox = np.array([\n",
    "    0x63, 0x7C, 0x77, 0x7B, 0xF2, 0x6B, 0x6F, 0xC5, 0x30, 0x01, 0x67, 0x2B, 0xFE, 0xD7, 0xAB, 0x76,\n",
    "    0xCA, 0x82, 0xC9, 0x7D, 0xFA, 0x59, 0x47, 0xF0, 0xAD, 0xD4, 0xA2, 0xAF, 0x9C, 0xA4, 0x72, 0xC0,\n",
    "    0xB7, 0xFD, 0x93, 0x26, 0x36, 0x3F, 0xF7, 0xCC, 0x34, 0xA5, 0xE5, 0xF1, 0x71, 0xD8, 0x31, 0x15,\n",
    "    0x04, 0xC7, 0x23, 0xC3, 0x18, 0x96, 0x05, 0x9A, 0x07, 0x12, 0x80, 0xE2, 0xEB, 0x27, 0xB2, 0x75,\n",
    "    0x09, 0x83, 0x2C, 0x1A, 0x1B, 0x6E, 0x5A, 0xA0, 0x52, 0x3B, 0xD6, 0xB3, 0x29, 0xE3, 0x2F, 0x84,\n",
    "    0x53, 0xD1, 0x00, 0xED, 0x20, 0xFC, 0xB1, 0x5B, 0x6A, 0xCB, 0xBE, 0x39, 0x4A, 0x4C, 0x58, 0xCF,\n",
    "    0xD0, 0xEF, 0xAA, 0xFB, 0x43, 0x4D, 0x33, 0x85, 0x45, 0xF9, 0x02, 0x7F, 0x50, 0x3C, 0x9F, 0xA8,\n",
    "    0x51, 0xA3, 0x40, 0x8F, 0x92, 0x9D, 0x38, 0xF5, 0xBC, 0xB6, 0xDA, 0x21, 0x10, 0xFF, 0xF3, 0xD2,\n",
    "    0xCD, 0x0C, 0x13, 0xEC, 0x5F, 0x97, 0x44, 0x17, 0xC4, 0xA7, 0x7E, 0x3D, 0x64, 0x5D, 0x19, 0x73,\n",
    "    0x60, 0x81, 0x4F, 0xDC, 0x22, 0x2A, 0x90, 0x88, 0x46, 0xEE, 0xB8, 0x14, 0xDE, 0x5E, 0x0B, 0xDB,\n",
    "    0xE0, 0x32, 0x3A, 0x0A, 0x49, 0x06, 0x24, 0x5C, 0xC2, 0xD3, 0xAC, 0x62, 0x91, 0x95, 0xE4, 0x79,\n",
    "    0xE7, 0xC8, 0x37, 0x6D, 0x8D, 0xD5, 0x4E, 0xA9, 0x6C, 0x56, 0xF4, 0xEA, 0x65, 0x7A, 0xAE, 0x08,\n",
    "    0xBA, 0x78, 0x25, 0x2E, 0x1C, 0xA6, 0xB4, 0xC6, 0xE8, 0xDD, 0x74, 0x1F, 0x4B, 0xBD, 0x8B, 0x8A,\n",
    "    0x70, 0x3E, 0xB5, 0x66, 0x48, 0x03, 0xF6, 0x0E, 0x61, 0x35, 0x57, 0xB9, 0x86, 0xC1, 0x1D, 0x9E,\n",
    "    0xE1, 0xF8, 0x98, 0x11, 0x69, 0xD9, 0x8E, 0x94, 0x9B, 0x1E, 0x87, 0xE9, 0xCE, 0x55, 0x28, 0xDF,\n",
    "    0x8C, 0xA1, 0x89, 0x0D, 0xBF, 0xE6, 0x42, 0x68, 0x41, 0x99, 0x2D, 0x0F, 0xB0, 0x54, 0xBB, 0x16\n",
    "])\n",
    "def snr(obs_value, traces):\n",
    "    max_val = np.max(obs_value)\n",
    "    means = [None] * (max_val + 1)\n",
    "    varss = [None] * (max_val + 1)\n",
    "    for i in range(max_val + 1):\n",
    "        means[i] = np.mean(traces[obs_value == i], axis=0)\n",
    "        varss[i] = np.var(traces[obs_value == i], axis=0)\n",
    "    means = np.array(means)\n",
    "    varss = np.array(varss)\n",
    "    snr = np.zeros_like(means[0])\n",
    "    u_tot = np.mean(means, axis=0)\n",
    "    v_tot = np.mean(varss, axis=0)\n",
    "    for i in range(max_val + 1):\n",
    "        snr += np.power(means[i]-u_tot, 2)\n",
    "    snr = snr / v_tot\n",
    "    return snr\n",
    "def partial_key(key_guess, attack_byte, pt, traces): # ^ = XOR\n",
    "    # xoring plaintext with key guess\n",
    "    hypotheses = np.array([HW[sbox[pt[i, attack_byte] ^ key_guess]] for i in range(pt.shape[0])])\n",
    "    # we use the hypotheses and calculate the correlation\n",
    "    \n",
    "    return np.max(np.corrcoef(hypotheses, traces, rowvar=False)[0, 1:])\n",
    "def random_subset(size, *a):\n",
    "    \"\"\"\n",
    "    Takes a random subset of size :size: from the given arrays. Makes sure that the rows of the arrays still match after shuffling.\n",
    "    Example usage: subset_train, subset_labels = random_subset(10, training_set, training_labels)\n",
    "\n",
    "    :size: size of the subset\n",
    "    :*a: arrays to take subset of\n",
    "    \"\"\"\n",
    "    combined = list(zip(*a))\n",
    "    random.shuffle(combined)\n",
    "    b = [np.array(i)[:size] for i in zip(*combined)]\n",
    "\n",
    "    return b\n",
    "\n",
    "def ge_sr(traces, plaintext, key, byte, model, success_cutoff, nr_attack_traces, averaging_nr, track=False, data_augment=None):\n",
    "    \"\"\"\n",
    "    Returns (guessing entropy, success rate) tuple of the given model over the given traces\n",
    "\n",
    "    :traces: all available attacking traces\n",
    "    :plaintext: all corresponding plaintext\n",
    "    :key: the real key\n",
    "    :byte: byte of key to attack\n",
    "    :model: model used for making predictions\n",
    "    :success_cutoff: cutoff to calculate success rate (key rank < success_cutoff)\n",
    "    :nr_attack_traces: number of traces to use for attacking\n",
    "    :averaging_nr: number of times to perform attack on subtraces in order to calculate the guessing entropy and success rate\n",
    "    :track: boolean to indicate whether the guessing entropy should be tracked for each trace amount up to :nr_attack_traces:\n",
    "    :data_augment: Default None. If not None, should be a function which takes traces as input and returns the augmented traces.\n",
    "    \"\"\"\n",
    "\n",
    "    if track:\n",
    "        key_ranks = np.zeros((averaging_nr, nr_attack_traces))\n",
    "        successes = np.zeros((averaging_nr, nr_attack_traces))\n",
    "    else:\n",
    "        key_ranks = np.zeros((averaging_nr))\n",
    "        successes = np.zeros((averaging_nr))\n",
    "\n",
    "    for run in tqdm(range(averaging_nr), desc=\"run\", leave=False):\n",
    "        # take a random subset from the attacking traces\n",
    "        attack_traces, attack_plaintext = random_subset(\n",
    "            nr_attack_traces, traces, plaintext)\n",
    "\n",
    "        if data_augment:\n",
    "            print(f\"applying data augmentation\")\n",
    "            attack_traces = data_augment(attack_traces)\n",
    "        \n",
    "        # make predictions: probability of each label, where label = sbox[plt[byte] ^ key[byte]]\n",
    "        predictions = model(attack_traces, training=False)\n",
    "\n",
    "        # convert probability to log values\n",
    "        predictions = np.log(predictions+1e-20)\n",
    "        _, leakage_mdl = predictions.shape\n",
    "            \n",
    "        # set the key probabilities to 0 for each key hypothesis\n",
    "        key_probabilities = np.zeros(256)\n",
    "\n",
    "        # for each trace, add up the log(probability) of each key hypothesis\n",
    "        for i in tqdm(range(nr_attack_traces), desc='attack', leave=False):\n",
    "            for k in range(256):\n",
    "                if leakage_mdl == 9:\n",
    "                    key_probabilities[k] += predictions[i, HW[sbox[attack_plaintext[i, byte] ^ k]]]\n",
    "                else:\n",
    "                    key_probabilities[k] += predictions[i, sbox[attack_plaintext[i, byte] ^ k]]\n",
    "\n",
    "            # if tracking per trace, then add to key_ranks and successes array here\n",
    "            if track:\n",
    "                # now key_probabilities contains estimated key probability after i traces\n",
    "                key_rank = list(np.argsort(key_probabilities)\n",
    "                                [::-1]).index(key[byte])\n",
    "                success = int(key_rank < success_cutoff)\n",
    "\n",
    "                key_ranks[run, i] = key_rank\n",
    "                successes[run, i] = success\n",
    "\n",
    "        # if not tracking per trace, only add to key_ranks and successes array after all traces are attacked\n",
    "        if not track:\n",
    "            # now key_probabilities contains the estimated key probability of each key after the full attack\n",
    "            # argsort()[::-1] -> sorts key values from most likely to least likely. Then get index of actual key byte to get the key rank.\n",
    "            key_rank = list(np.argsort(key_probabilities)\n",
    "                            [::-1]).index(key[byte])\n",
    "\n",
    "            success = int(key_rank < success_cutoff)\n",
    "\n",
    "            key_ranks[run] = key_rank\n",
    "            successes[run] = success\n",
    "\n",
    "    return np.mean(key_ranks, axis=0), np.mean(successes, axis=0)"
   ]
  },
  {
   "cell_type": "code",
   "execution_count": 9,
   "metadata": {},
   "outputs": [],
   "source": [
    "\n",
    "x_train, x_test, labels_train, labels_test, plt_train, plt_test, keys_train, keys_test, masks_train, masks_test = read_data('Base_desync0.h5')"
   ]
  },
  {
   "cell_type": "code",
   "execution_count": 38,
   "metadata": {},
   "outputs": [],
   "source": [
    "\n",
    "class myCNN:\n",
    "    \n",
    "    def __init__(self, name=\"CNN\"):\n",
    "        self.name = name\n",
    "        \n",
    "    def cnn_best(self, classes=256,input_dim=700):\n",
    "        # From VGG16 design\n",
    "        input_shape = (input_dim,1)\n",
    "        img_input = Input(shape=input_shape)\n",
    "        # Block 1\n",
    "        x = Conv1D(64, 11, activation='relu', padding='same', name='block1_conv1', kernel_regularizer=tf.keras.regularizers.l2(0.0001))(img_input)\n",
    "        x = AveragePooling1D(2, strides=2, name='block1_pool')(x)\n",
    "        # Block 2\n",
    "        x = Conv1D(128, 11, activation='relu', padding='same', name='block2_conv1', kernel_regularizer=tf.keras.regularizers.l2(0.0001))(x)\n",
    "        x = AveragePooling1D(2, strides=2, name='block2_pool')(x)\n",
    "        # Block 3\n",
    "        x = Conv1D(256, 11, activation='relu', padding='same', name='block3_conv1', kernel_regularizer=tf.keras.regularizers.l2(0.0001))(x)\n",
    "        x = AveragePooling1D(2, strides=2, name='block3_pool')(x)\n",
    "        # Block 4\n",
    "        #x = Conv1D(512, 11, activation='relu', padding='same', name='block4_conv1', kernel_regularizer=tf.keras.regularizers.l2(0.0001))(x)\n",
    "        #x = AveragePooling1D(2, strides=2, name='block4_pool')(x)\n",
    "        # Block 5\n",
    "        #x = Conv1D(512, 11, activation='relu', padding='same', name='block5_conv1', kernel_regularizer=tf.keras.regularizers.l2(0.0001))(x)\n",
    "        #x = AveragePooling1D(2, strides=2, name='block5_pool')(x)\n",
    "        # Classification block\n",
    "        x = Flatten(name='flatten')(x)\n",
    "        x = Dense(128, activation='relu', name='fc1')(x)\n",
    "        x = Dropout(0.2)(x) \n",
    "        #x = Dense(4096, activation='relu', name='fc2')(x)\n",
    "        x = Dense(classes, activation='softmax', name='predictions')(x)\n",
    "    \n",
    "\n",
    "        inputs = img_input\n",
    "        # Create model.\n",
    "        model = Model(inputs, x, name='cnn_best')\n",
    "        optimizer = RMSprop(lr=0.00001)\n",
    "        model.compile(loss='categorical_crossentropy', optimizer=optimizer, metrics=['accuracy'])\n",
    "        \n",
    "        return model\n",
    "    \n",
    "\n",
    "def train_model(X_profiling, Y_profiling, model, save_file_name, epochs=150, batch_size=100, multilabel=0, validation_split=0, early_stopping=0):\n",
    "    #check_file_exists(os.path.dirname(save_file_name))\n",
    "    # Save model calllback\n",
    "    save_model = ModelCheckpoint(save_file_name)\n",
    "    callbacks=[save_model]\n",
    "    # Early stopping callback\n",
    "    if (early_stopping != 0):\n",
    "        if validation_split == 0:\n",
    "            validation_split=0.1\n",
    "        callbacks.append(EarlyStopping(monitor=\"val_loss\", patience=10, restore_best_weights=True))\n",
    "    # Get the input layer shape\n",
    "    if isinstance(model.get_layer(index=0).input_shape, list):\n",
    "        input_layer_shape = model.get_layer(index=0).input_shape[0]\n",
    "    else:\n",
    "        input_layer_shape = model.get_layer(index=0).input_shape\n",
    "    # Sanity check\n",
    "    if input_layer_shape[1] != len(X_profiling[0]):\n",
    "        print(\"Error: model input shape %d instead of %d is not expected ...\" % (input_layer_shape[1], len(X_profiling[0])))\n",
    "        sys.exit(-1)\n",
    "    # Adapt the data shape according our model input\n",
    "    if len(input_layer_shape) == 2:\n",
    "        # This is a MLP\n",
    "        Reshaped_X_profiling = X_profiling\n",
    "    elif len(input_layer_shape) == 3:\n",
    "        # This is a CNN: expand the dimensions\n",
    "        Reshaped_X_profiling = X_profiling.reshape((X_profiling.shape[0], X_profiling.shape[1], 1))\n",
    "    else:\n",
    "        print(\"Error: model input shape length %d is not expected ...\" % len(input_layer_shape))\n",
    "        sys.exit(-1)\n",
    "    #print(f\"shape Reshaped X: {Reshaped_X_profiling.shape}\")\n",
    "    y=to_categorical(Y_profiling, num_classes=256)\n",
    "    #y = tf.keras.utils.to_categorical(Y_profiling, num_classes=256)\n",
    "    \n",
    "    history = model.fit(x=Reshaped_X_profiling, y=y, batch_size=batch_size, verbose = 1, validation_split=validation_split, epochs=epochs, callbacks=callbacks)\n",
    "    return history"
   ]
  },
  {
   "cell_type": "code",
   "execution_count": 39,
   "metadata": {},
   "outputs": [
    {
     "name": "stderr",
     "output_type": "stream",
     "text": [
      "WARNING:absl:At this time, the v2.11+ optimizer `tf.keras.optimizers.RMSprop` runs slowly on M1/M2 Macs, please use the legacy Keras optimizer instead, located at `tf.keras.optimizers.legacy.RMSprop`.\n",
      "WARNING:absl:`lr` is deprecated in Keras optimizer, please use `learning_rate` or use the legacy optimizer, e.g.,tf.keras.optimizers.legacy.RMSprop.\n",
      "WARNING:absl:There is a known slowdown when using v2.11+ Keras optimizers on M1/M2 Macs. Falling back to the legacy Keras optimizer, i.e., `tf.keras.optimizers.legacy.RMSprop`.\n"
     ]
    },
    {
     "name": "stdout",
     "output_type": "stream",
     "text": [
      "Model: \"cnn_best\"\n",
      "_________________________________________________________________\n",
      " Layer (type)                Output Shape              Param #   \n",
      "=================================================================\n",
      " input_8 (InputLayer)        [(None, 700, 1)]          0         \n",
      "                                                                 \n",
      " block1_conv1 (Conv1D)       (None, 700, 64)           768       \n",
      "                                                                 \n",
      " block1_pool (AveragePoolin  (None, 350, 64)           0         \n",
      " g1D)                                                            \n",
      "                                                                 \n",
      " block2_conv1 (Conv1D)       (None, 350, 128)          90240     \n",
      "                                                                 \n",
      " block2_pool (AveragePoolin  (None, 175, 128)          0         \n",
      " g1D)                                                            \n",
      "                                                                 \n",
      " block3_conv1 (Conv1D)       (None, 175, 256)          360704    \n",
      "                                                                 \n",
      " block3_pool (AveragePoolin  (None, 87, 256)           0         \n",
      " g1D)                                                            \n",
      "                                                                 \n",
      " flatten (Flatten)           (None, 22272)             0         \n",
      "                                                                 \n",
      " fc1 (Dense)                 (None, 128)               2850944   \n",
      "                                                                 \n",
      " dropout (Dropout)           (None, 128)               0         \n",
      "                                                                 \n",
      " predictions (Dense)         (None, 256)               33024     \n",
      "                                                                 \n",
      "=================================================================\n",
      "Total params: 3335680 (12.72 MB)\n",
      "Trainable params: 3335680 (12.72 MB)\n",
      "Non-trainable params: 0 (0.00 Byte)\n",
      "_________________________________________________________________\n"
     ]
    }
   ],
   "source": [
    "#from sklearn.decomposition import PCA\n",
    "#pca =PCA(n_components=100)\n",
    "#X_train = pca.fit_transform(x_train)\n",
    "CNN = myCNN().cnn_best(input_dim=700, classes=256)\n",
    "CNN.summary()"
   ]
  },
  {
   "cell_type": "code",
   "execution_count": 40,
   "metadata": {},
   "outputs": [
    {
     "name": "stdout",
     "output_type": "stream",
     "text": [
      "[PhysicalDevice(name='/physical_device:GPU:0', device_type='GPU')]\n",
      "Epoch 1/30\n"
     ]
    },
    {
     "name": "stderr",
     "output_type": "stream",
     "text": [
      "2023-06-04 21:06:41.778795: I tensorflow/core/grappler/optimizers/custom_graph_optimizer_registry.cc:114] Plugin optimizer for device_type GPU is enabled.\n"
     ]
    },
    {
     "name": "stdout",
     "output_type": "stream",
     "text": [
      "704/704 [==============================] - ETA: 0s - loss: 5.6353 - accuracy: 0.0035"
     ]
    },
    {
     "name": "stderr",
     "output_type": "stream",
     "text": [
      "2023-06-04 21:07:21.897492: I tensorflow/core/grappler/optimizers/custom_graph_optimizer_registry.cc:114] Plugin optimizer for device_type GPU is enabled.\n"
     ]
    },
    {
     "name": "stdout",
     "output_type": "stream",
     "text": [
      "INFO:tensorflow:Assets written to: cnn/assets\n"
     ]
    },
    {
     "name": "stderr",
     "output_type": "stream",
     "text": [
      "INFO:tensorflow:Assets written to: cnn/assets\n"
     ]
    },
    {
     "name": "stdout",
     "output_type": "stream",
     "text": [
      "704/704 [==============================] - 43s 59ms/step - loss: 5.6353 - accuracy: 0.0035 - val_loss: 5.5450 - val_accuracy: 0.0038\n",
      "Epoch 2/30\n",
      "703/704 [============================>.] - ETA: 0s - loss: 5.5441 - accuracy: 0.0045INFO:tensorflow:Assets written to: cnn/assets\n"
     ]
    },
    {
     "name": "stderr",
     "output_type": "stream",
     "text": [
      "INFO:tensorflow:Assets written to: cnn/assets\n"
     ]
    },
    {
     "name": "stdout",
     "output_type": "stream",
     "text": [
      "704/704 [==============================] - 42s 59ms/step - loss: 5.5441 - accuracy: 0.0045 - val_loss: 5.5453 - val_accuracy: 0.0044\n",
      "Epoch 3/30\n",
      "703/704 [============================>.] - ETA: 0s - loss: 5.5435 - accuracy: 0.0049INFO:tensorflow:Assets written to: cnn/assets\n"
     ]
    },
    {
     "name": "stderr",
     "output_type": "stream",
     "text": [
      "INFO:tensorflow:Assets written to: cnn/assets\n"
     ]
    },
    {
     "name": "stdout",
     "output_type": "stream",
     "text": [
      "704/704 [==============================] - 42s 59ms/step - loss: 5.5435 - accuracy: 0.0049 - val_loss: 5.5457 - val_accuracy: 0.0044\n",
      "Epoch 4/30\n",
      "703/704 [============================>.] - ETA: 0s - loss: 5.5432 - accuracy: 0.0043INFO:tensorflow:Assets written to: cnn/assets\n"
     ]
    },
    {
     "name": "stderr",
     "output_type": "stream",
     "text": [
      "INFO:tensorflow:Assets written to: cnn/assets\n"
     ]
    },
    {
     "name": "stdout",
     "output_type": "stream",
     "text": [
      "704/704 [==============================] - 41s 58ms/step - loss: 5.5432 - accuracy: 0.0043 - val_loss: 5.5460 - val_accuracy: 0.0038\n",
      "Epoch 5/30\n",
      "703/704 [============================>.] - ETA: 0s - loss: 5.5432 - accuracy: 0.0045INFO:tensorflow:Assets written to: cnn/assets\n"
     ]
    },
    {
     "name": "stderr",
     "output_type": "stream",
     "text": [
      "INFO:tensorflow:Assets written to: cnn/assets\n"
     ]
    },
    {
     "name": "stdout",
     "output_type": "stream",
     "text": [
      "704/704 [==============================] - 42s 59ms/step - loss: 5.5431 - accuracy: 0.0045 - val_loss: 5.5462 - val_accuracy: 0.0038\n",
      "Epoch 6/30\n",
      "703/704 [============================>.] - ETA: 0s - loss: 5.5431 - accuracy: 0.0049INFO:tensorflow:Assets written to: cnn/assets\n"
     ]
    },
    {
     "name": "stderr",
     "output_type": "stream",
     "text": [
      "INFO:tensorflow:Assets written to: cnn/assets\n"
     ]
    },
    {
     "name": "stdout",
     "output_type": "stream",
     "text": [
      "704/704 [==============================] - 42s 59ms/step - loss: 5.5431 - accuracy: 0.0049 - val_loss: 5.5463 - val_accuracy: 0.0044\n",
      "Epoch 7/30\n",
      "703/704 [============================>.] - ETA: 0s - loss: 5.5431 - accuracy: 0.0045INFO:tensorflow:Assets written to: cnn/assets\n"
     ]
    },
    {
     "name": "stderr",
     "output_type": "stream",
     "text": [
      "INFO:tensorflow:Assets written to: cnn/assets\n"
     ]
    },
    {
     "name": "stdout",
     "output_type": "stream",
     "text": [
      "704/704 [==============================] - 42s 59ms/step - loss: 5.5431 - accuracy: 0.0045 - val_loss: 5.5467 - val_accuracy: 0.0044\n",
      "Epoch 8/30\n",
      "703/704 [============================>.] - ETA: 0s - loss: 5.5431 - accuracy: 0.0048INFO:tensorflow:Assets written to: cnn/assets\n"
     ]
    },
    {
     "name": "stderr",
     "output_type": "stream",
     "text": [
      "INFO:tensorflow:Assets written to: cnn/assets\n"
     ]
    },
    {
     "name": "stdout",
     "output_type": "stream",
     "text": [
      "704/704 [==============================] - 42s 59ms/step - loss: 5.5431 - accuracy: 0.0048 - val_loss: 5.5469 - val_accuracy: 0.0044\n",
      "Epoch 9/30\n",
      "703/704 [============================>.] - ETA: 0s - loss: 5.5431 - accuracy: 0.0048INFO:tensorflow:Assets written to: cnn/assets\n"
     ]
    },
    {
     "name": "stderr",
     "output_type": "stream",
     "text": [
      "INFO:tensorflow:Assets written to: cnn/assets\n"
     ]
    },
    {
     "name": "stdout",
     "output_type": "stream",
     "text": [
      "704/704 [==============================] - 41s 59ms/step - loss: 5.5431 - accuracy: 0.0048 - val_loss: 5.5468 - val_accuracy: 0.0044\n",
      "Epoch 10/30\n",
      "703/704 [============================>.] - ETA: 0s - loss: 5.5431 - accuracy: 0.0047INFO:tensorflow:Assets written to: cnn/assets\n"
     ]
    },
    {
     "name": "stderr",
     "output_type": "stream",
     "text": [
      "INFO:tensorflow:Assets written to: cnn/assets\n"
     ]
    },
    {
     "name": "stdout",
     "output_type": "stream",
     "text": [
      "704/704 [==============================] - 41s 59ms/step - loss: 5.5431 - accuracy: 0.0047 - val_loss: 5.5470 - val_accuracy: 0.0044\n",
      "Epoch 11/30\n",
      "703/704 [============================>.] - ETA: 0s - loss: 5.5431 - accuracy: 0.0046INFO:tensorflow:Assets written to: cnn/assets\n"
     ]
    },
    {
     "name": "stderr",
     "output_type": "stream",
     "text": [
      "INFO:tensorflow:Assets written to: cnn/assets\n"
     ]
    },
    {
     "name": "stdout",
     "output_type": "stream",
     "text": [
      "704/704 [==============================] - 42s 60ms/step - loss: 5.5431 - accuracy: 0.0046 - val_loss: 5.5470 - val_accuracy: 0.0038\n"
     ]
    }
   ],
   "source": [
    "\n",
    "print(tf.config.list_physical_devices('GPU'))\n",
    "\n",
    "#print(labels_train.shape)\n",
    "#print(keys_train.shape)\n",
    "#print(keys_train)\n",
    "with tf.device('GPU'):\n",
    "    history = train_model(x_train, labels_train, CNN, \"cnn\", batch_size=64, epochs=30, validation_split=0.1, early_stopping=1)"
   ]
  },
  {
   "cell_type": "code",
   "execution_count": 41,
   "metadata": {},
   "outputs": [
    {
     "name": "stdout",
     "output_type": "stream",
     "text": [
      " 14/313 [>.............................] - ETA: 2s"
     ]
    },
    {
     "name": "stderr",
     "output_type": "stream",
     "text": [
      "2023-06-04 21:18:31.684299: I tensorflow/core/grappler/optimizers/custom_graph_optimizer_registry.cc:114] Plugin optimizer for device_type GPU is enabled.\n"
     ]
    },
    {
     "name": "stdout",
     "output_type": "stream",
     "text": [
      "313/313 [==============================] - 3s 9ms/step\n"
     ]
    }
   ],
   "source": [
    "#X_test = pca.transform(x_test)\n",
    "predictions = CNN.predict(x_test)\n",
    "predictions = np.log(predictions + 1e-20)"
   ]
  },
  {
   "cell_type": "code",
   "execution_count": 42,
   "metadata": {},
   "outputs": [
    {
     "name": "stdout",
     "output_type": "stream",
     "text": [
      "[ 70 144 246   1 207 175   9   5 143  32 223 163 139  31 195 156 121 180\n",
      "  21 176  34  38 115 185 125 167   8 113 119 181  40  58 140 101 215 240\n",
      "  85 191 252  54 152 172  60 124 130 123 203  14 239 122  35 171  77  86\n",
      " 219  12 201  11 120 235 236  97 103 177  44 128  23  36 127 105 248 196\n",
      " 232  27 244 224  69 142 150  20  90 126 254 233 213 245   0  63  55 202\n",
      "  62  88 184 111  42 204 255 251 110 208  74  72  15 234   7 118   6  19\n",
      " 170  76 237 243 134  64 183  81 193  84 200  49  26  99 247 148 155 169\n",
      "  33  71  92 199  13 226 209  46 217 222 164  66  50 188 189 228 131 231\n",
      " 192 249 206 173 132 136 146  94 182   3 194 159 197 104 114 133 153  28\n",
      " 242  78  75  25  83  68 117  56  51 135 211  95 157 138 214  87 116 221\n",
      " 129  18  24 106 168 198  80  30  45  43  10 179 216 166  96 178 210  91\n",
      " 230 218  65  37 162 187  48  82  59  98 165  61 190 253 100  17 225   4\n",
      " 147 250  29 112 102 212 205  22 109  67 141 158 145 149 108  47  79 107\n",
      " 229  89 137 238 174  73 160 186  41  52  16 151 241  57  53  39 154 227\n",
      "  93 161   2 220]\n",
      "position of the key 181 over 256 positions\n",
      "key hypothesis with highest log-likelihood: 220, correct key: 224\n"
     ]
    }
   ],
   "source": [
    "import itertools\n",
    "key_vector = np.zeros(256)\n",
    "attack_byte = 2\n",
    "for i, kguess in itertools.product((range(10)), range(256)):\n",
    "    hypothesis = sbox[plt_test[i, attack_byte] ^ kguess]\n",
    "    key_vector[kguess] += predictions[i, hypothesis]\n",
    "print(np.argsort(key_vector))\n",
    "index = len(key_vector) - np.where(np.argsort(key_vector)==keys_test[0][attack_byte])[0][0]\n",
    "print(f\"position of the key {index} over {len(key_vector)} positions\")\n",
    "print(f\"key hypothesis with highest log-likelihood: {np.argmax(key_vector)}, correct key: {keys_test[0][attack_byte]}\")"
   ]
  },
  {
   "cell_type": "code",
   "execution_count": 43,
   "metadata": {},
   "outputs": [
    {
     "data": {
      "application/vnd.jupyter.widget-view+json": {
       "model_id": "20ac61e802f44a409abedfd8714ad266",
       "version_major": 2,
       "version_minor": 0
      },
      "text/plain": [
       "run:   0%|          | 0/100 [00:00<?, ?it/s]"
      ]
     },
     "metadata": {},
     "output_type": "display_data"
    },
    {
     "data": {
      "application/vnd.jupyter.widget-view+json": {
       "model_id": "69eee5eca81e47b1b7439c6e58ea0331",
       "version_major": 2,
       "version_minor": 0
      },
      "text/plain": [
       "attack:   0%|          | 0/10 [00:00<?, ?it/s]"
      ]
     },
     "metadata": {},
     "output_type": "display_data"
    },
    {
     "data": {
      "application/vnd.jupyter.widget-view+json": {
       "model_id": "89833e8dd030434ca1c73152aebbb6bd",
       "version_major": 2,
       "version_minor": 0
      },
      "text/plain": [
       "attack:   0%|          | 0/10 [00:00<?, ?it/s]"
      ]
     },
     "metadata": {},
     "output_type": "display_data"
    },
    {
     "data": {
      "application/vnd.jupyter.widget-view+json": {
       "model_id": "f6c7b1482a224e82844c642d82d711e7",
       "version_major": 2,
       "version_minor": 0
      },
      "text/plain": [
       "attack:   0%|          | 0/10 [00:00<?, ?it/s]"
      ]
     },
     "metadata": {},
     "output_type": "display_data"
    },
    {
     "data": {
      "application/vnd.jupyter.widget-view+json": {
       "model_id": "27adfde294004677b2aaefa75287f39e",
       "version_major": 2,
       "version_minor": 0
      },
      "text/plain": [
       "attack:   0%|          | 0/10 [00:00<?, ?it/s]"
      ]
     },
     "metadata": {},
     "output_type": "display_data"
    },
    {
     "data": {
      "application/vnd.jupyter.widget-view+json": {
       "model_id": "2d1079cfcb1846ed9cf90efdb7fd5fb0",
       "version_major": 2,
       "version_minor": 0
      },
      "text/plain": [
       "attack:   0%|          | 0/10 [00:00<?, ?it/s]"
      ]
     },
     "metadata": {},
     "output_type": "display_data"
    },
    {
     "data": {
      "application/vnd.jupyter.widget-view+json": {
       "model_id": "06c7c3cd4ad1485d96ddf658b2269e46",
       "version_major": 2,
       "version_minor": 0
      },
      "text/plain": [
       "attack:   0%|          | 0/10 [00:00<?, ?it/s]"
      ]
     },
     "metadata": {},
     "output_type": "display_data"
    },
    {
     "data": {
      "application/vnd.jupyter.widget-view+json": {
       "model_id": "d73ef35cc61e450185d0c67da2c19644",
       "version_major": 2,
       "version_minor": 0
      },
      "text/plain": [
       "attack:   0%|          | 0/10 [00:00<?, ?it/s]"
      ]
     },
     "metadata": {},
     "output_type": "display_data"
    },
    {
     "data": {
      "application/vnd.jupyter.widget-view+json": {
       "model_id": "efbd83fe499d4488882a81f83518ca27",
       "version_major": 2,
       "version_minor": 0
      },
      "text/plain": [
       "attack:   0%|          | 0/10 [00:00<?, ?it/s]"
      ]
     },
     "metadata": {},
     "output_type": "display_data"
    },
    {
     "data": {
      "application/vnd.jupyter.widget-view+json": {
       "model_id": "bc105f5fe69c421ca5434a0ff10b1dfc",
       "version_major": 2,
       "version_minor": 0
      },
      "text/plain": [
       "attack:   0%|          | 0/10 [00:00<?, ?it/s]"
      ]
     },
     "metadata": {},
     "output_type": "display_data"
    },
    {
     "data": {
      "application/vnd.jupyter.widget-view+json": {
       "model_id": "7b6e5eb3474f4813afc54ca9a3b00d08",
       "version_major": 2,
       "version_minor": 0
      },
      "text/plain": [
       "attack:   0%|          | 0/10 [00:00<?, ?it/s]"
      ]
     },
     "metadata": {},
     "output_type": "display_data"
    },
    {
     "data": {
      "application/vnd.jupyter.widget-view+json": {
       "model_id": "827f023deb504b4d934a5b35a2353ca0",
       "version_major": 2,
       "version_minor": 0
      },
      "text/plain": [
       "attack:   0%|          | 0/10 [00:00<?, ?it/s]"
      ]
     },
     "metadata": {},
     "output_type": "display_data"
    },
    {
     "data": {
      "application/vnd.jupyter.widget-view+json": {
       "model_id": "b7417818c93d43d590a55322ab10a3aa",
       "version_major": 2,
       "version_minor": 0
      },
      "text/plain": [
       "attack:   0%|          | 0/10 [00:00<?, ?it/s]"
      ]
     },
     "metadata": {},
     "output_type": "display_data"
    },
    {
     "data": {
      "application/vnd.jupyter.widget-view+json": {
       "model_id": "f822cde5fd094a69a24b93784c262da7",
       "version_major": 2,
       "version_minor": 0
      },
      "text/plain": [
       "attack:   0%|          | 0/10 [00:00<?, ?it/s]"
      ]
     },
     "metadata": {},
     "output_type": "display_data"
    },
    {
     "data": {
      "application/vnd.jupyter.widget-view+json": {
       "model_id": "a0258904ace04cb08fd74087d72d0b00",
       "version_major": 2,
       "version_minor": 0
      },
      "text/plain": [
       "attack:   0%|          | 0/10 [00:00<?, ?it/s]"
      ]
     },
     "metadata": {},
     "output_type": "display_data"
    },
    {
     "data": {
      "application/vnd.jupyter.widget-view+json": {
       "model_id": "6c848348c7df4d85bda1bf8312530ded",
       "version_major": 2,
       "version_minor": 0
      },
      "text/plain": [
       "attack:   0%|          | 0/10 [00:00<?, ?it/s]"
      ]
     },
     "metadata": {},
     "output_type": "display_data"
    },
    {
     "data": {
      "application/vnd.jupyter.widget-view+json": {
       "model_id": "75720474db8341e8865963e028b43495",
       "version_major": 2,
       "version_minor": 0
      },
      "text/plain": [
       "attack:   0%|          | 0/10 [00:00<?, ?it/s]"
      ]
     },
     "metadata": {},
     "output_type": "display_data"
    },
    {
     "data": {
      "application/vnd.jupyter.widget-view+json": {
       "model_id": "5dc17a6d74f741c984e5f098b76bf7ee",
       "version_major": 2,
       "version_minor": 0
      },
      "text/plain": [
       "attack:   0%|          | 0/10 [00:00<?, ?it/s]"
      ]
     },
     "metadata": {},
     "output_type": "display_data"
    },
    {
     "data": {
      "application/vnd.jupyter.widget-view+json": {
       "model_id": "129f1720ae2e412c831a90d567399bd3",
       "version_major": 2,
       "version_minor": 0
      },
      "text/plain": [
       "attack:   0%|          | 0/10 [00:00<?, ?it/s]"
      ]
     },
     "metadata": {},
     "output_type": "display_data"
    },
    {
     "data": {
      "application/vnd.jupyter.widget-view+json": {
       "model_id": "08f502ea995d497b82fda33fe6ce4bce",
       "version_major": 2,
       "version_minor": 0
      },
      "text/plain": [
       "attack:   0%|          | 0/10 [00:00<?, ?it/s]"
      ]
     },
     "metadata": {},
     "output_type": "display_data"
    },
    {
     "data": {
      "application/vnd.jupyter.widget-view+json": {
       "model_id": "47df0b91e99f4935bfb4e11f0134912f",
       "version_major": 2,
       "version_minor": 0
      },
      "text/plain": [
       "attack:   0%|          | 0/10 [00:00<?, ?it/s]"
      ]
     },
     "metadata": {},
     "output_type": "display_data"
    },
    {
     "data": {
      "application/vnd.jupyter.widget-view+json": {
       "model_id": "61f92f0d86df45f9aa4cc991f8d6ee38",
       "version_major": 2,
       "version_minor": 0
      },
      "text/plain": [
       "attack:   0%|          | 0/10 [00:00<?, ?it/s]"
      ]
     },
     "metadata": {},
     "output_type": "display_data"
    },
    {
     "data": {
      "application/vnd.jupyter.widget-view+json": {
       "model_id": "5232ad095c2b4dc8bea5faf17ae17924",
       "version_major": 2,
       "version_minor": 0
      },
      "text/plain": [
       "attack:   0%|          | 0/10 [00:00<?, ?it/s]"
      ]
     },
     "metadata": {},
     "output_type": "display_data"
    },
    {
     "data": {
      "application/vnd.jupyter.widget-view+json": {
       "model_id": "2727776d892142d7a00ae25653187952",
       "version_major": 2,
       "version_minor": 0
      },
      "text/plain": [
       "attack:   0%|          | 0/10 [00:00<?, ?it/s]"
      ]
     },
     "metadata": {},
     "output_type": "display_data"
    },
    {
     "data": {
      "application/vnd.jupyter.widget-view+json": {
       "model_id": "0a6f26ccfa8849378933fe49f7211a82",
       "version_major": 2,
       "version_minor": 0
      },
      "text/plain": [
       "attack:   0%|          | 0/10 [00:00<?, ?it/s]"
      ]
     },
     "metadata": {},
     "output_type": "display_data"
    },
    {
     "data": {
      "application/vnd.jupyter.widget-view+json": {
       "model_id": "46e943c946f4427fbd56626845b4f973",
       "version_major": 2,
       "version_minor": 0
      },
      "text/plain": [
       "attack:   0%|          | 0/10 [00:00<?, ?it/s]"
      ]
     },
     "metadata": {},
     "output_type": "display_data"
    },
    {
     "data": {
      "application/vnd.jupyter.widget-view+json": {
       "model_id": "2f2123cab65f418b80514eda76d15884",
       "version_major": 2,
       "version_minor": 0
      },
      "text/plain": [
       "attack:   0%|          | 0/10 [00:00<?, ?it/s]"
      ]
     },
     "metadata": {},
     "output_type": "display_data"
    },
    {
     "data": {
      "application/vnd.jupyter.widget-view+json": {
       "model_id": "1fd568739edc4665a03a5f9776b18e0b",
       "version_major": 2,
       "version_minor": 0
      },
      "text/plain": [
       "attack:   0%|          | 0/10 [00:00<?, ?it/s]"
      ]
     },
     "metadata": {},
     "output_type": "display_data"
    },
    {
     "data": {
      "application/vnd.jupyter.widget-view+json": {
       "model_id": "d7a6a6e3c475464f985eafc6c08ca8e5",
       "version_major": 2,
       "version_minor": 0
      },
      "text/plain": [
       "attack:   0%|          | 0/10 [00:00<?, ?it/s]"
      ]
     },
     "metadata": {},
     "output_type": "display_data"
    },
    {
     "data": {
      "application/vnd.jupyter.widget-view+json": {
       "model_id": "c7cc93ce8cd84065b923392bb2e06b44",
       "version_major": 2,
       "version_minor": 0
      },
      "text/plain": [
       "attack:   0%|          | 0/10 [00:00<?, ?it/s]"
      ]
     },
     "metadata": {},
     "output_type": "display_data"
    },
    {
     "data": {
      "application/vnd.jupyter.widget-view+json": {
       "model_id": "546a99223f0a4b50bffed333c2bace7d",
       "version_major": 2,
       "version_minor": 0
      },
      "text/plain": [
       "attack:   0%|          | 0/10 [00:00<?, ?it/s]"
      ]
     },
     "metadata": {},
     "output_type": "display_data"
    },
    {
     "data": {
      "application/vnd.jupyter.widget-view+json": {
       "model_id": "c43b99c164494e3a880295082255ad73",
       "version_major": 2,
       "version_minor": 0
      },
      "text/plain": [
       "attack:   0%|          | 0/10 [00:00<?, ?it/s]"
      ]
     },
     "metadata": {},
     "output_type": "display_data"
    },
    {
     "data": {
      "application/vnd.jupyter.widget-view+json": {
       "model_id": "131d7660b9af4bbba7557ea787732000",
       "version_major": 2,
       "version_minor": 0
      },
      "text/plain": [
       "attack:   0%|          | 0/10 [00:00<?, ?it/s]"
      ]
     },
     "metadata": {},
     "output_type": "display_data"
    },
    {
     "data": {
      "application/vnd.jupyter.widget-view+json": {
       "model_id": "3738555d31714fe99fbfbc7ce68ee5ae",
       "version_major": 2,
       "version_minor": 0
      },
      "text/plain": [
       "attack:   0%|          | 0/10 [00:00<?, ?it/s]"
      ]
     },
     "metadata": {},
     "output_type": "display_data"
    },
    {
     "data": {
      "application/vnd.jupyter.widget-view+json": {
       "model_id": "7959ce9996a14ca285624404814ad161",
       "version_major": 2,
       "version_minor": 0
      },
      "text/plain": [
       "attack:   0%|          | 0/10 [00:00<?, ?it/s]"
      ]
     },
     "metadata": {},
     "output_type": "display_data"
    },
    {
     "data": {
      "application/vnd.jupyter.widget-view+json": {
       "model_id": "8291e7d16c354cedadff925472318558",
       "version_major": 2,
       "version_minor": 0
      },
      "text/plain": [
       "attack:   0%|          | 0/10 [00:00<?, ?it/s]"
      ]
     },
     "metadata": {},
     "output_type": "display_data"
    },
    {
     "data": {
      "application/vnd.jupyter.widget-view+json": {
       "model_id": "ddda3e4e69c84b7598e6d23f9c178890",
       "version_major": 2,
       "version_minor": 0
      },
      "text/plain": [
       "attack:   0%|          | 0/10 [00:00<?, ?it/s]"
      ]
     },
     "metadata": {},
     "output_type": "display_data"
    },
    {
     "data": {
      "application/vnd.jupyter.widget-view+json": {
       "model_id": "37937c35809942dca7397ed3a57c5386",
       "version_major": 2,
       "version_minor": 0
      },
      "text/plain": [
       "attack:   0%|          | 0/10 [00:00<?, ?it/s]"
      ]
     },
     "metadata": {},
     "output_type": "display_data"
    },
    {
     "data": {
      "application/vnd.jupyter.widget-view+json": {
       "model_id": "3fb7fffafb7e4d0897e553e9efabcd55",
       "version_major": 2,
       "version_minor": 0
      },
      "text/plain": [
       "attack:   0%|          | 0/10 [00:00<?, ?it/s]"
      ]
     },
     "metadata": {},
     "output_type": "display_data"
    },
    {
     "data": {
      "application/vnd.jupyter.widget-view+json": {
       "model_id": "3e153c1e28f5452b985c12ee4e17e51b",
       "version_major": 2,
       "version_minor": 0
      },
      "text/plain": [
       "attack:   0%|          | 0/10 [00:00<?, ?it/s]"
      ]
     },
     "metadata": {},
     "output_type": "display_data"
    },
    {
     "data": {
      "application/vnd.jupyter.widget-view+json": {
       "model_id": "815a7ac3d58242c5b0286f40be0a7b07",
       "version_major": 2,
       "version_minor": 0
      },
      "text/plain": [
       "attack:   0%|          | 0/10 [00:00<?, ?it/s]"
      ]
     },
     "metadata": {},
     "output_type": "display_data"
    },
    {
     "data": {
      "application/vnd.jupyter.widget-view+json": {
       "model_id": "d482fc092a8748cf9617a998c75610c4",
       "version_major": 2,
       "version_minor": 0
      },
      "text/plain": [
       "attack:   0%|          | 0/10 [00:00<?, ?it/s]"
      ]
     },
     "metadata": {},
     "output_type": "display_data"
    },
    {
     "data": {
      "application/vnd.jupyter.widget-view+json": {
       "model_id": "4d196351b9fd44e8a59e71dbb12337b1",
       "version_major": 2,
       "version_minor": 0
      },
      "text/plain": [
       "attack:   0%|          | 0/10 [00:00<?, ?it/s]"
      ]
     },
     "metadata": {},
     "output_type": "display_data"
    },
    {
     "data": {
      "application/vnd.jupyter.widget-view+json": {
       "model_id": "0530159117b642a9923b1c3c406cb929",
       "version_major": 2,
       "version_minor": 0
      },
      "text/plain": [
       "attack:   0%|          | 0/10 [00:00<?, ?it/s]"
      ]
     },
     "metadata": {},
     "output_type": "display_data"
    },
    {
     "data": {
      "application/vnd.jupyter.widget-view+json": {
       "model_id": "1df2f534f5dc4385ad67fe1bf5ccb551",
       "version_major": 2,
       "version_minor": 0
      },
      "text/plain": [
       "attack:   0%|          | 0/10 [00:00<?, ?it/s]"
      ]
     },
     "metadata": {},
     "output_type": "display_data"
    },
    {
     "data": {
      "application/vnd.jupyter.widget-view+json": {
       "model_id": "b797bfb3b1ac4cbb961fc8870a95105f",
       "version_major": 2,
       "version_minor": 0
      },
      "text/plain": [
       "attack:   0%|          | 0/10 [00:00<?, ?it/s]"
      ]
     },
     "metadata": {},
     "output_type": "display_data"
    },
    {
     "data": {
      "application/vnd.jupyter.widget-view+json": {
       "model_id": "e078baa45112485bbe701546a914652d",
       "version_major": 2,
       "version_minor": 0
      },
      "text/plain": [
       "attack:   0%|          | 0/10 [00:00<?, ?it/s]"
      ]
     },
     "metadata": {},
     "output_type": "display_data"
    },
    {
     "data": {
      "application/vnd.jupyter.widget-view+json": {
       "model_id": "7f665c259aff4648b94fca8c3b90a02a",
       "version_major": 2,
       "version_minor": 0
      },
      "text/plain": [
       "attack:   0%|          | 0/10 [00:00<?, ?it/s]"
      ]
     },
     "metadata": {},
     "output_type": "display_data"
    },
    {
     "data": {
      "application/vnd.jupyter.widget-view+json": {
       "model_id": "d252630cd0d845c09d8bc470539be83a",
       "version_major": 2,
       "version_minor": 0
      },
      "text/plain": [
       "attack:   0%|          | 0/10 [00:00<?, ?it/s]"
      ]
     },
     "metadata": {},
     "output_type": "display_data"
    },
    {
     "data": {
      "application/vnd.jupyter.widget-view+json": {
       "model_id": "88ad1befa4f14e7da284af8c76345040",
       "version_major": 2,
       "version_minor": 0
      },
      "text/plain": [
       "attack:   0%|          | 0/10 [00:00<?, ?it/s]"
      ]
     },
     "metadata": {},
     "output_type": "display_data"
    },
    {
     "data": {
      "application/vnd.jupyter.widget-view+json": {
       "model_id": "fc6606c0eb64426bb2a5c3f16d1fd852",
       "version_major": 2,
       "version_minor": 0
      },
      "text/plain": [
       "attack:   0%|          | 0/10 [00:00<?, ?it/s]"
      ]
     },
     "metadata": {},
     "output_type": "display_data"
    },
    {
     "data": {
      "application/vnd.jupyter.widget-view+json": {
       "model_id": "235a409ef56749f7a3eb94eb0658de96",
       "version_major": 2,
       "version_minor": 0
      },
      "text/plain": [
       "attack:   0%|          | 0/10 [00:00<?, ?it/s]"
      ]
     },
     "metadata": {},
     "output_type": "display_data"
    },
    {
     "data": {
      "application/vnd.jupyter.widget-view+json": {
       "model_id": "022f704a3c2b4de99494944c300dbccc",
       "version_major": 2,
       "version_minor": 0
      },
      "text/plain": [
       "attack:   0%|          | 0/10 [00:00<?, ?it/s]"
      ]
     },
     "metadata": {},
     "output_type": "display_data"
    },
    {
     "data": {
      "application/vnd.jupyter.widget-view+json": {
       "model_id": "50824dd1c08145628d332de383264557",
       "version_major": 2,
       "version_minor": 0
      },
      "text/plain": [
       "attack:   0%|          | 0/10 [00:00<?, ?it/s]"
      ]
     },
     "metadata": {},
     "output_type": "display_data"
    },
    {
     "data": {
      "application/vnd.jupyter.widget-view+json": {
       "model_id": "8e86267b4bf447038e7d6ed028e923e1",
       "version_major": 2,
       "version_minor": 0
      },
      "text/plain": [
       "attack:   0%|          | 0/10 [00:00<?, ?it/s]"
      ]
     },
     "metadata": {},
     "output_type": "display_data"
    },
    {
     "data": {
      "application/vnd.jupyter.widget-view+json": {
       "model_id": "db1ee7560b8b41cdbccb4439835c5011",
       "version_major": 2,
       "version_minor": 0
      },
      "text/plain": [
       "attack:   0%|          | 0/10 [00:00<?, ?it/s]"
      ]
     },
     "metadata": {},
     "output_type": "display_data"
    },
    {
     "data": {
      "application/vnd.jupyter.widget-view+json": {
       "model_id": "c369ab01054647d4b657f84493a90e8b",
       "version_major": 2,
       "version_minor": 0
      },
      "text/plain": [
       "attack:   0%|          | 0/10 [00:00<?, ?it/s]"
      ]
     },
     "metadata": {},
     "output_type": "display_data"
    },
    {
     "data": {
      "application/vnd.jupyter.widget-view+json": {
       "model_id": "8822c4b82d23481db600764f341adadd",
       "version_major": 2,
       "version_minor": 0
      },
      "text/plain": [
       "attack:   0%|          | 0/10 [00:00<?, ?it/s]"
      ]
     },
     "metadata": {},
     "output_type": "display_data"
    },
    {
     "data": {
      "application/vnd.jupyter.widget-view+json": {
       "model_id": "58b31026f9ab43d59c3c8a72c368aac5",
       "version_major": 2,
       "version_minor": 0
      },
      "text/plain": [
       "attack:   0%|          | 0/10 [00:00<?, ?it/s]"
      ]
     },
     "metadata": {},
     "output_type": "display_data"
    },
    {
     "data": {
      "application/vnd.jupyter.widget-view+json": {
       "model_id": "52492f953de142aca41e0e8e6f8ef7a4",
       "version_major": 2,
       "version_minor": 0
      },
      "text/plain": [
       "attack:   0%|          | 0/10 [00:00<?, ?it/s]"
      ]
     },
     "metadata": {},
     "output_type": "display_data"
    },
    {
     "data": {
      "application/vnd.jupyter.widget-view+json": {
       "model_id": "0f0fb427b5e24697be909bb31e884d47",
       "version_major": 2,
       "version_minor": 0
      },
      "text/plain": [
       "attack:   0%|          | 0/10 [00:00<?, ?it/s]"
      ]
     },
     "metadata": {},
     "output_type": "display_data"
    },
    {
     "data": {
      "application/vnd.jupyter.widget-view+json": {
       "model_id": "88c558d4a7f147f2b21fbe43f7f221f4",
       "version_major": 2,
       "version_minor": 0
      },
      "text/plain": [
       "attack:   0%|          | 0/10 [00:00<?, ?it/s]"
      ]
     },
     "metadata": {},
     "output_type": "display_data"
    },
    {
     "data": {
      "application/vnd.jupyter.widget-view+json": {
       "model_id": "dbe30a90d81541fc9d5e675de9df39d7",
       "version_major": 2,
       "version_minor": 0
      },
      "text/plain": [
       "attack:   0%|          | 0/10 [00:00<?, ?it/s]"
      ]
     },
     "metadata": {},
     "output_type": "display_data"
    },
    {
     "data": {
      "application/vnd.jupyter.widget-view+json": {
       "model_id": "42207c8a949c40ee8ccce3ed4e8e1950",
       "version_major": 2,
       "version_minor": 0
      },
      "text/plain": [
       "attack:   0%|          | 0/10 [00:00<?, ?it/s]"
      ]
     },
     "metadata": {},
     "output_type": "display_data"
    },
    {
     "data": {
      "application/vnd.jupyter.widget-view+json": {
       "model_id": "7c46d7014d9a47dcb705113d7796757f",
       "version_major": 2,
       "version_minor": 0
      },
      "text/plain": [
       "attack:   0%|          | 0/10 [00:00<?, ?it/s]"
      ]
     },
     "metadata": {},
     "output_type": "display_data"
    },
    {
     "data": {
      "application/vnd.jupyter.widget-view+json": {
       "model_id": "25d15c39d1e74bcabd7da432b6397822",
       "version_major": 2,
       "version_minor": 0
      },
      "text/plain": [
       "attack:   0%|          | 0/10 [00:00<?, ?it/s]"
      ]
     },
     "metadata": {},
     "output_type": "display_data"
    },
    {
     "data": {
      "application/vnd.jupyter.widget-view+json": {
       "model_id": "f96a4a563a3e4c3c9a4344133a41f735",
       "version_major": 2,
       "version_minor": 0
      },
      "text/plain": [
       "attack:   0%|          | 0/10 [00:00<?, ?it/s]"
      ]
     },
     "metadata": {},
     "output_type": "display_data"
    },
    {
     "data": {
      "application/vnd.jupyter.widget-view+json": {
       "model_id": "1d4c834cef004f44bbba4e96c8166be3",
       "version_major": 2,
       "version_minor": 0
      },
      "text/plain": [
       "attack:   0%|          | 0/10 [00:00<?, ?it/s]"
      ]
     },
     "metadata": {},
     "output_type": "display_data"
    },
    {
     "data": {
      "application/vnd.jupyter.widget-view+json": {
       "model_id": "d6ae1eb2e83e40b58909d5aeed10f85b",
       "version_major": 2,
       "version_minor": 0
      },
      "text/plain": [
       "attack:   0%|          | 0/10 [00:00<?, ?it/s]"
      ]
     },
     "metadata": {},
     "output_type": "display_data"
    },
    {
     "data": {
      "application/vnd.jupyter.widget-view+json": {
       "model_id": "2668b588ff124eb7a110805f14d4616d",
       "version_major": 2,
       "version_minor": 0
      },
      "text/plain": [
       "attack:   0%|          | 0/10 [00:00<?, ?it/s]"
      ]
     },
     "metadata": {},
     "output_type": "display_data"
    },
    {
     "data": {
      "application/vnd.jupyter.widget-view+json": {
       "model_id": "da0f9f6259a44103a08d88b6872b0bfd",
       "version_major": 2,
       "version_minor": 0
      },
      "text/plain": [
       "attack:   0%|          | 0/10 [00:00<?, ?it/s]"
      ]
     },
     "metadata": {},
     "output_type": "display_data"
    },
    {
     "data": {
      "application/vnd.jupyter.widget-view+json": {
       "model_id": "c96abd7b3b7f4685b61e3c6709dfedc6",
       "version_major": 2,
       "version_minor": 0
      },
      "text/plain": [
       "attack:   0%|          | 0/10 [00:00<?, ?it/s]"
      ]
     },
     "metadata": {},
     "output_type": "display_data"
    },
    {
     "data": {
      "application/vnd.jupyter.widget-view+json": {
       "model_id": "50516f6771694cb494a414a316af29b8",
       "version_major": 2,
       "version_minor": 0
      },
      "text/plain": [
       "attack:   0%|          | 0/10 [00:00<?, ?it/s]"
      ]
     },
     "metadata": {},
     "output_type": "display_data"
    },
    {
     "data": {
      "application/vnd.jupyter.widget-view+json": {
       "model_id": "e9403c3a2f8d46e5a34e0f62294d35d6",
       "version_major": 2,
       "version_minor": 0
      },
      "text/plain": [
       "attack:   0%|          | 0/10 [00:00<?, ?it/s]"
      ]
     },
     "metadata": {},
     "output_type": "display_data"
    },
    {
     "data": {
      "application/vnd.jupyter.widget-view+json": {
       "model_id": "934591c1a7d04a50b965571016b1d9f9",
       "version_major": 2,
       "version_minor": 0
      },
      "text/plain": [
       "attack:   0%|          | 0/10 [00:00<?, ?it/s]"
      ]
     },
     "metadata": {},
     "output_type": "display_data"
    },
    {
     "data": {
      "application/vnd.jupyter.widget-view+json": {
       "model_id": "39cf830bfa5049ec932a41dfb762f736",
       "version_major": 2,
       "version_minor": 0
      },
      "text/plain": [
       "attack:   0%|          | 0/10 [00:00<?, ?it/s]"
      ]
     },
     "metadata": {},
     "output_type": "display_data"
    },
    {
     "data": {
      "application/vnd.jupyter.widget-view+json": {
       "model_id": "1a6196d9aba2433bb4b2068436c6fd77",
       "version_major": 2,
       "version_minor": 0
      },
      "text/plain": [
       "attack:   0%|          | 0/10 [00:00<?, ?it/s]"
      ]
     },
     "metadata": {},
     "output_type": "display_data"
    },
    {
     "data": {
      "application/vnd.jupyter.widget-view+json": {
       "model_id": "5fe143de30e04a85affde0a49f9b7efd",
       "version_major": 2,
       "version_minor": 0
      },
      "text/plain": [
       "attack:   0%|          | 0/10 [00:00<?, ?it/s]"
      ]
     },
     "metadata": {},
     "output_type": "display_data"
    },
    {
     "data": {
      "application/vnd.jupyter.widget-view+json": {
       "model_id": "091f4c84aae14944add77c173941a7b0",
       "version_major": 2,
       "version_minor": 0
      },
      "text/plain": [
       "attack:   0%|          | 0/10 [00:00<?, ?it/s]"
      ]
     },
     "metadata": {},
     "output_type": "display_data"
    },
    {
     "data": {
      "application/vnd.jupyter.widget-view+json": {
       "model_id": "6404484234204b5db9cfc1bd6bd996da",
       "version_major": 2,
       "version_minor": 0
      },
      "text/plain": [
       "attack:   0%|          | 0/10 [00:00<?, ?it/s]"
      ]
     },
     "metadata": {},
     "output_type": "display_data"
    },
    {
     "data": {
      "application/vnd.jupyter.widget-view+json": {
       "model_id": "00a63353b18e49309223d6afbe15dd67",
       "version_major": 2,
       "version_minor": 0
      },
      "text/plain": [
       "attack:   0%|          | 0/10 [00:00<?, ?it/s]"
      ]
     },
     "metadata": {},
     "output_type": "display_data"
    },
    {
     "data": {
      "application/vnd.jupyter.widget-view+json": {
       "model_id": "f1e45bcea09740cfa416407e16882825",
       "version_major": 2,
       "version_minor": 0
      },
      "text/plain": [
       "attack:   0%|          | 0/10 [00:00<?, ?it/s]"
      ]
     },
     "metadata": {},
     "output_type": "display_data"
    },
    {
     "data": {
      "application/vnd.jupyter.widget-view+json": {
       "model_id": "ac78334e4dbf41fa9ea1bbc243938043",
       "version_major": 2,
       "version_minor": 0
      },
      "text/plain": [
       "attack:   0%|          | 0/10 [00:00<?, ?it/s]"
      ]
     },
     "metadata": {},
     "output_type": "display_data"
    },
    {
     "data": {
      "application/vnd.jupyter.widget-view+json": {
       "model_id": "33e31adbfcff425087008cff0920905a",
       "version_major": 2,
       "version_minor": 0
      },
      "text/plain": [
       "attack:   0%|          | 0/10 [00:00<?, ?it/s]"
      ]
     },
     "metadata": {},
     "output_type": "display_data"
    },
    {
     "data": {
      "application/vnd.jupyter.widget-view+json": {
       "model_id": "fca61ecd9964465ab027cfa30ab0925e",
       "version_major": 2,
       "version_minor": 0
      },
      "text/plain": [
       "attack:   0%|          | 0/10 [00:00<?, ?it/s]"
      ]
     },
     "metadata": {},
     "output_type": "display_data"
    },
    {
     "data": {
      "application/vnd.jupyter.widget-view+json": {
       "model_id": "59e0d2f58faa4d9681548d4f4f351a80",
       "version_major": 2,
       "version_minor": 0
      },
      "text/plain": [
       "attack:   0%|          | 0/10 [00:00<?, ?it/s]"
      ]
     },
     "metadata": {},
     "output_type": "display_data"
    },
    {
     "data": {
      "application/vnd.jupyter.widget-view+json": {
       "model_id": "28cb4cd0ea8c44c6a2b769f79a2abcaf",
       "version_major": 2,
       "version_minor": 0
      },
      "text/plain": [
       "attack:   0%|          | 0/10 [00:00<?, ?it/s]"
      ]
     },
     "metadata": {},
     "output_type": "display_data"
    },
    {
     "data": {
      "application/vnd.jupyter.widget-view+json": {
       "model_id": "d60bba47e9674873b8b5c0a5bb369eaf",
       "version_major": 2,
       "version_minor": 0
      },
      "text/plain": [
       "attack:   0%|          | 0/10 [00:00<?, ?it/s]"
      ]
     },
     "metadata": {},
     "output_type": "display_data"
    },
    {
     "data": {
      "application/vnd.jupyter.widget-view+json": {
       "model_id": "74972a868f604faaa494668ded818949",
       "version_major": 2,
       "version_minor": 0
      },
      "text/plain": [
       "attack:   0%|          | 0/10 [00:00<?, ?it/s]"
      ]
     },
     "metadata": {},
     "output_type": "display_data"
    },
    {
     "data": {
      "application/vnd.jupyter.widget-view+json": {
       "model_id": "e4c07791bf0c4affbd4d9a88ec7e0229",
       "version_major": 2,
       "version_minor": 0
      },
      "text/plain": [
       "attack:   0%|          | 0/10 [00:00<?, ?it/s]"
      ]
     },
     "metadata": {},
     "output_type": "display_data"
    },
    {
     "data": {
      "application/vnd.jupyter.widget-view+json": {
       "model_id": "1410c343440846369a8d498f9fc8d294",
       "version_major": 2,
       "version_minor": 0
      },
      "text/plain": [
       "attack:   0%|          | 0/10 [00:00<?, ?it/s]"
      ]
     },
     "metadata": {},
     "output_type": "display_data"
    },
    {
     "data": {
      "application/vnd.jupyter.widget-view+json": {
       "model_id": "c56fb1e41ed44cc18ba31d6766f2f5d1",
       "version_major": 2,
       "version_minor": 0
      },
      "text/plain": [
       "attack:   0%|          | 0/10 [00:00<?, ?it/s]"
      ]
     },
     "metadata": {},
     "output_type": "display_data"
    },
    {
     "data": {
      "application/vnd.jupyter.widget-view+json": {
       "model_id": "995a6ea558ab47089112aae68ec4e4b4",
       "version_major": 2,
       "version_minor": 0
      },
      "text/plain": [
       "attack:   0%|          | 0/10 [00:00<?, ?it/s]"
      ]
     },
     "metadata": {},
     "output_type": "display_data"
    },
    {
     "data": {
      "application/vnd.jupyter.widget-view+json": {
       "model_id": "f7f2a8ac6d014271affbd1e102d61643",
       "version_major": 2,
       "version_minor": 0
      },
      "text/plain": [
       "attack:   0%|          | 0/10 [00:00<?, ?it/s]"
      ]
     },
     "metadata": {},
     "output_type": "display_data"
    },
    {
     "data": {
      "application/vnd.jupyter.widget-view+json": {
       "model_id": "067d5955ee814c2c8d5a93eae61da311",
       "version_major": 2,
       "version_minor": 0
      },
      "text/plain": [
       "attack:   0%|          | 0/10 [00:00<?, ?it/s]"
      ]
     },
     "metadata": {},
     "output_type": "display_data"
    },
    {
     "data": {
      "application/vnd.jupyter.widget-view+json": {
       "model_id": "eeb5e370946a4c02b9e43caaabe90ecf",
       "version_major": 2,
       "version_minor": 0
      },
      "text/plain": [
       "attack:   0%|          | 0/10 [00:00<?, ?it/s]"
      ]
     },
     "metadata": {},
     "output_type": "display_data"
    },
    {
     "data": {
      "application/vnd.jupyter.widget-view+json": {
       "model_id": "926450a50f83494098f677cde76d4738",
       "version_major": 2,
       "version_minor": 0
      },
      "text/plain": [
       "attack:   0%|          | 0/10 [00:00<?, ?it/s]"
      ]
     },
     "metadata": {},
     "output_type": "display_data"
    },
    {
     "data": {
      "application/vnd.jupyter.widget-view+json": {
       "model_id": "82a1b83e209542739e2b3500c6f3fb91",
       "version_major": 2,
       "version_minor": 0
      },
      "text/plain": [
       "attack:   0%|          | 0/10 [00:00<?, ?it/s]"
      ]
     },
     "metadata": {},
     "output_type": "display_data"
    },
    {
     "data": {
      "application/vnd.jupyter.widget-view+json": {
       "model_id": "b94f5292c0a44fc2855d5f0ef48c39e3",
       "version_major": 2,
       "version_minor": 0
      },
      "text/plain": [
       "attack:   0%|          | 0/10 [00:00<?, ?it/s]"
      ]
     },
     "metadata": {},
     "output_type": "display_data"
    },
    {
     "data": {
      "application/vnd.jupyter.widget-view+json": {
       "model_id": "977d0ff6e05a41c2bebf338d3d1ddde8",
       "version_major": 2,
       "version_minor": 0
      },
      "text/plain": [
       "attack:   0%|          | 0/10 [00:00<?, ?it/s]"
      ]
     },
     "metadata": {},
     "output_type": "display_data"
    },
    {
     "data": {
      "application/vnd.jupyter.widget-view+json": {
       "model_id": "ca94dedbe57d470fb0e02be892c755b8",
       "version_major": 2,
       "version_minor": 0
      },
      "text/plain": [
       "attack:   0%|          | 0/10 [00:00<?, ?it/s]"
      ]
     },
     "metadata": {},
     "output_type": "display_data"
    }
   ],
   "source": [
    "ge, sr=ge_sr(x_test, plt_test, keys_test[0], attack_byte, CNN,success_cutoff=1,nr_attack_traces=10,averaging_nr=100, track=True)\n"
   ]
  },
  {
   "cell_type": "code",
   "execution_count": 44,
   "metadata": {},
   "outputs": [
    {
     "data": {
      "text/plain": [
       "[]"
      ]
     },
     "execution_count": 44,
     "metadata": {},
     "output_type": "execute_result"
    },
    {
     "data": {
      "image/png": "[encoded data removed]",
      "text/plain": [
       "<Figure size 800x800 with 2 Axes>"
      ]
     },
     "metadata": {},
     "output_type": "display_data"
    }
   ],
   "source": [
    "f, axs = plt.subplots(2, 1, sharex=True, figsize=(8, 8))\n",
    "axs[0].plot(range(1, len(ge)+1), ge)\n",
    "axs[0].set_ylabel(\"Guessing Entropy\")\n",
    "axs[1].plot(range(1, len(sr)+1), sr)\n",
    "axs[1].set_ylabel(\"Success Rate\")\n",
    "axs[1].set_xlabel(\"Number of Traces\")\n",
    "\n",
    "plt.plot()"
   ]
  }
 ],
 "metadata": {
  "kernelspec": {
   "display_name": "Python 3",
   "language": "python",
   "name": "python3"
  },
  "language_info": {
   "codemirror_mode": {
    "name": "ipython",
    "version": 3
   },
   "file_extension": ".py",
   "mimetype": "text/x-python",
   "name": "python",
   "nbconvert_exporter": "python",
   "pygments_lexer": "ipython3",
   "version": "3.9.16"
  },
  "orig_nbformat": 4
 },
 "nbformat": 4,
 "nbformat_minor": 2
}
